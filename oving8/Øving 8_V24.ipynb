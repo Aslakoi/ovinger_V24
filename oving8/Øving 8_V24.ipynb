{
 "cells": [
  {
   "attachments": {},
   "cell_type": "markdown",
   "metadata": {},
   "source": [
    "# Øving 7\n",
    "## Oppgave 1\n",
    "Bestem treghetsmomentet for et sykkelhjul om en akse gjennom hjulets sentrum, når hjulet er bygd opp som vist på figuren under:\n",
    "\n",
    "<center><img src=\"figurer/sykkelhjul.png\" alt=\"\" style=\"height: 200px;\"/></center>\n",
    "\n",
    "1. Nav: Tynnvegget sylinder med masse $m_{\\text{nav}}=100 \\textrm{ g}$ og radius $r=5,00 \\textrm{ cm}$\n",
    "2. Eiker: 8 stk. tynne stenger med masse $m_{\\text{eik}}=5,00 \\textrm{ g}$ og lengde $L=31,0 \\textrm{ cm}$. Disse er spent mellom kanten av navet og felgen.\n",
    "3. Felg: Tynnvegget sylinder med radius $r+L$ og masse $m_{\\text{felg}}=500 \\textrm{ g}$\n",
    "4. Dekk/slange: Hul sylinder med tykkelse $d=4,00 \\textrm{ cm}$ og masse $m_{\\text{dekk}}=400 \\textrm{ g}$\n",
    "\n"
   ]
  },
  {
   "attachments": {},
   "cell_type": "markdown",
   "metadata": {},
   "source": [
    "## Oppgave 2\n",
    "En primitiv jo-jo består av en tråd tvunnet rundt en massiv skive/sylinder. Tråden holdes i den ene enden, og når sylinderen slippes, løper tråden av sylinderen uten å gli. Vi ser bort fra massen til tråden.\n",
    "\n",
    "<center><img src=\"figurer/jo-jo.png\" alt=\"\" style=\"height: 200px;\"/></center>\n",
    "\n",
    "a) Tegn krefter som virker på sylinder\n",
    "b) Bestem aks.\n",
    "c) Bestem snordrag?"
   ]
  },
  {
   "attachments": {},
   "cell_type": "markdown",
   "metadata": {},
   "source": [
    "## Oppgave 3\n",
    "Rulling knyttet til lab?\n"
   ]
  },
  {
   "attachments": {},
   "cell_type": "markdown",
   "metadata": {},
   "source": []
  },
  {
   "cell_type": "markdown",
   "metadata": {},
   "source": [
    "## Oppgave 4\n",
    "En Tesla Model S har følgende data:\n",
    "\n",
    "Masse: $m=2250 \\textrm{ kg}$ \\\n",
    "Drag-koeffisient: $C_d= 0.24$ \\\n",
    "Frontareal $A=2,33 \\textrm{  m}^2$\n",
    "\n",
    "Beregn arbeidet gjort av luftmotstanden på bilen dersom den kjører en strekning på $10 \\textrm{ km}$ en konstant fart på\n",
    "\n",
    "i) $v=80 \\textrm{ km/h}$ \\\n",
    "ii) $v=100 \\textrm{ km/h}$\n",
    "\n",
    "Angi svaret i $\\textrm{kWh}$.\n",
    "\n",
    "b) Vi skal nå anta at bilen akselererer fra 0 opp til den konstante farten i a) i løpet av en tid $T$; den holder deretter konstant fart i et tidsrom $\\Delta t$, og bremser så ned igjen til 0 i løpet av samme tid $T$. Farten $v(t)$ kan da modelleres slik: \n",
    "\n",
    "   $$ v(t)=   \\left\\{\n",
    "\\begin{array}{ll}\n",
    "      \\frac{v_{\\text{max}}}{2} \\left(\\sin(\\frac{2\\pi t}{T}-\\frac{\\pi}{2}) +1 \\right) & 0<t<T \\\\\n",
    "      v_{\\text{max}} & T<t<T+\\Delta t \\\\\n",
    "      \\frac{v_{\\text{max}}}{2} \\left(-\\sin(\\frac{2\\pi (t-(T+\\Delta t))}{T}-\\frac{\\pi}{2}) +1 \\right) & T+\\Delta t<t<2T+\\Delta t \\\\\n",
    "\\end{array} \n",
    "\\right.  $$\n",
    "\n",
    "En skisse av en slik fartsfunksjon er vist på figuren under:\n",
    "\n",
    "<center><img src=\"figurer/fartsfunksjon.png\" alt=\"\" style=\"width: 400px;\"/></center>\n",
    "\n",
    "Bruk den ferdiglagde $v(t)$ i appendiks og lag et plott av $v(t)$ dersom $T=10 \\textrm{ s}$, $\\Delta t=100 \\textrm{ s}$ og hhv.\n",
    "\n",
    "i) $v_{\\text{max}}=80 \\textrm{ km/h}$ \\\n",
    "ii) $v_{\\text{max}}=100 \\textrm{ km/h}$.\n",
    "\n",
    "c) Beregn hvor langt bilen har beveget seg fra start til slutt for\n",
    "\n",
    "i) $v_{\\text{max}}=80 \\textrm{ km/h}$ \\\n",
    "ii) $v_{\\text{max}}=100 \\textrm{ km/h}$.\n",
    "\n",
    "d) Beregn arbeidet som luftmotstanden har gjort på bilen fra start til slutt når farten $v(t)$ er gitt ved formelen i b). Hint: Arbeidet $W$ gjort av luftmotstanden $f=\\frac{1}{2} \\rho A C_d v^2$ kan finnes fra definisjonen av effekt, $P=\\frac{dW}{dt}\\Rightarrow $W= \\int_{t_1}^{t_2} P dt$, og sammenhengen $P=fv=\\frac{1}{2} \\rho A C_d v^3$."
   ]
  },
  {
   "cell_type": "code",
   "execution_count": 23,
   "metadata": {},
   "outputs": [],
   "source": [
    "#Appendiks: funksjon gitt ved delt forskrift, samt P(v)\n",
    "\n",
    "import numpy as np\n",
    "\n",
    "def v(t):\n",
    "    \"\"\"Funksjonen gir farten v(t) gitt ved den delte funksjonsforskriften angitt i oppgaveteksten.\n",
    "\n",
    "    Input:\n",
    "    t: tid [s]\n",
    "\n",
    "    Globale konstanter (gitt i hovedprogrammet):\n",
    "    T: Akselerasjons- og nedbremsingstid [s]\n",
    "    delta_t: Varighet av tidsrom med konstant fart vmax [s]\n",
    "    vmax: Den maksimale farten bilen akselererer opp til [km/h]\n",
    "\n",
    "    Output:\n",
    "    v: fart v(t) [m/s]\n",
    "    \"\"\"\n",
    "\n",
    "    \n",
    "    if(t>0 and t<=T):\n",
    "        v=0.5*(vmax/3.6)*(np.sin(np.pi*t/T-np.pi/2)+1)\n",
    "       \n",
    "    elif (t>T and t<=T+delta_t):\n",
    "        v=vmax/3.6\n",
    "       \n",
    "    elif (t>T+delta_t and t<=2*T+delta_t):\n",
    "        v=0.5*(vmax/3.6)*(-np.sin(np.pi*(t-(T+delta_t))/T-np.pi/2)+1)\n",
    "       \n",
    "    else:\n",
    "        v=0\n",
    "        \n",
    "    return v\n",
    "\n",
    "def P(t):\n",
    "    \"\"\"Funksjonen P beregner effekten ved en gitt hastighet v.\n",
    "    \n",
    "    Input:\n",
    "    t: tid [s]\n",
    "\n",
    "    Globale konstanter (gitt i programmets hovedel):\n",
    "    rho: Luftas massetetthet [kg/m^3]\n",
    "    A: Frontareal [m^2]\n",
    "    C_d: \"Drag-koeffisient\" []\n",
    "    \n",
    "\n",
    "    Output:\n",
    "    P: effekt P(t) [W]\n",
    "    \"\"\"\n",
    "       \n",
    "    return 0.5*rho*A*C_d*v(t)**3\n",
    "\n",
    "\n"
   ]
  },
  {
   "cell_type": "code",
   "execution_count": 29,
   "metadata": {},
   "outputs": [
    {
     "name": "stdout",
     "output_type": "stream",
     "text": [
      "Tilbakelagt strekning [m]:  13555.555555552144\n",
      "Arbeid utførst av luftmotstanden [kWh]:  0.620054869684028\n"
     ]
    },
    {
     "data": {
      "image/png": "[encoded data removed]",
      "text/plain": [
       "<Figure size 432x288 with 1 Axes>"
      ]
     },
     "metadata": {
      "needs_background": "light"
     },
     "output_type": "display_data"
    }
   ],
   "source": [
    "#Eksempler på bruk av rutinene\n",
    "\n",
    "import matplotlib.pyplot as plt\n",
    "import scipy.integrate as integrate\n",
    "\n",
    "#Konstanter\n",
    "T=10            #Akselerajonstid [s]\n",
    "delta_t=600     #Tid med konstant fart [s]\n",
    "vmax=80         #Maksimal fart [km/h]\n",
    "t1=0            #Starttid [s]\n",
    "t2=2*T+delta_t  #Sluttid [s]\n",
    "rho=1.2         #Luftas massetetthet [kg/m^3]\n",
    "A=2.33          #Frontareal [m^2]\n",
    "C_d=0.24          #Drag-koffisient []\n",
    "\n",
    "#Genererer tid- og fartsverdier og tegner opp v(t)\n",
    "t_liste=np.arange(t1,t2,0.1)\n",
    "v_liste=[]\n",
    "for t in t_liste:\n",
    "    v_liste.append(3.6*v(t))\n",
    "plt.plot(t_liste,v_liste)\n",
    "\n",
    "#Numerisk beregning av integraler.\n",
    "s=integrate.quad(v,t1,t2) #Tilbakelagt strekning; returnerer tuple (verdi, feilskranke)\n",
    "W=integrate.quad(P,t1,t2) #Utført arbeid av luftmotstanden; returnerer tuple(verdi, feilskranke)\n",
    "\n",
    "print(\"Tilbakelagt strekning [m]: \", s[0])\n",
    "print(\"Arbeid utførst av luftmotstanden [kWh]: \", W[0]/(3.6*10**6))"
   ]
  },
  {
   "cell_type": "code",
   "execution_count": null,
   "metadata": {},
   "outputs": [],
   "source": []
  }
 ],
 "metadata": {
  "kernelspec": {
   "display_name": "Python 3",
   "language": "python",
   "name": "python3"
  },
  "language_info": {
   "codemirror_mode": {
    "name": "ipython",
    "version": 3
   },
   "file_extension": ".py",
   "mimetype": "text/x-python",
   "name": "python",
   "nbconvert_exporter": "python",
   "pygments_lexer": "ipython3",
   "version": "3.8.5"
  },
  "vscode": {
   "interpreter": {
    "hash": "551ea7ae10b114133e2fbac23ef1e8e3e30b0e580eb9fe1d9fc046518af6d1fa"
   }
  }
 },
 "nbformat": 4,
 "nbformat_minor": 2
}
