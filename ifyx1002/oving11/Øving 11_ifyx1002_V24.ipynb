{
 "cells": [
  {
   "cell_type": "markdown",
   "metadata": {},
   "source": [
    "# Øving 11\n",
    "## Oppgave 1\n",
    "I partikkelakseleratoren LHC (Large Hadron Collider) ved CERN i Sveits brukes superledende magneter til å føre protoner med masse $m=1,67 \\cdot 10^{-27} \\textrm{ kg}$ og ladning  $+e=1,60 \\cdot 10^{-19} \\textrm{ C}$ i en sirkelbane med radius $R=\\textrm{ km}$. Protonene har en hastighet på  $m=3,00 \\cdot 10^{7} \\textrm{ m/s}$, og magnetfeltet står vinkelrett på protonenes hastighetsretning. Se figuren under."
   ]
  },
  {
   "cell_type": "markdown",
   "metadata": {},
   "source": []
  }
 ],
 "metadata": {
  "language_info": {
   "name": "python"
  }
 },
 "nbformat": 4,
 "nbformat_minor": 2
}
