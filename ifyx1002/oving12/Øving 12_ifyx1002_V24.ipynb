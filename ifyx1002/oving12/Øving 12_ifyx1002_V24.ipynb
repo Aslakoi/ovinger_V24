{
 "cells": [
  {
   "cell_type": "markdown",
   "metadata": {},
   "source": [
    "# Øving 12\n",
    "## Oppgave 1\n",
    "To lange ledninger henger i lette snorer med lengde $l=5,0 \\textrm{ cm}$. Hver ledning har en masse per lengdeenhet på $\\lambda= 30 \\textrm{ g/m}$, og de fører begge en identisk strøm i motsatte retninger. Se figuren under.\n",
    "\n",
    "<center><img src=\"figurer/oppgave_magnetkraft_mellom_hengende_ledere.png\" alt=\"\" style=\"width: 600px;\"/></center>\n",
    "\n",
    "Hva er strømmen $I$ i hver leder dersom vinkelen mellom snorene er $\\theta=12^{\\circ}$ (dvs. vinkelen mellom hver snor og vertikalretningen er $\\frac{\\theta}{2}$)?\n",
    "\n",
    "\n"
   ]
  },
  {
   "cell_type": "markdown",
   "metadata": {},
   "source": [
    "## Oppgave 2\n",
    "En primitiv likestrømsmotor består av en kvadratisk ledersløyfe med sidelengde $a=10 \\textrm{ cm}$ plassert i et homogent magnetfelt med flukstetthet $B=0,50 \\textrm{ T}$ og retning mot høyre. Ved $t = 0$ er magnetfeltet parallellt med planet til sløyfa, idet sløyfa tilkobles et batteri slik at det går en konstant strøm $I=10 \\textrm{ A}$ i sløyfa. Sløyfa er opplagret slik at den kan rotere om midtpunktet. Se figuren under. \n",
    "\n",
    " \t\n",
    "a) Bestem magnetkrafta på hver av de fire sidene, samt den totale magnetkraften på sløyfa. \n",
    "\n",
    "b) Bestem dreiemomentet $\\tau$ på sløyfa som funksjon av vinkelen $\\phi$ mellom magnetfeltet og sløyfas normalvektor, dvs. besten $\\tau(\\phi)$.\n"
   ]
  },
  {
   "cell_type": "markdown",
   "metadata": {},
   "source": [
    "## Oppgave 3\n",
    "Bestem magnetfeltet i de angitte punktene på figurene:\n",
    "a)\tTo lange ledere fører strøm i samme retning. Bestem magnetfeltet i punktene P1 og P2.\n"
   ]
  },
  {
   "cell_type": "markdown",
   "metadata": {},
   "source": [
    "## Oppgave 4\n",
    "En primitiv generator er utformet som en rektangulær ledersløyfe med areal A som roterer i et konstant, homogent ytre magnetfelt med feltstyrke B (retning vertikalt på figuren). Sløyfa roteres med håndmakt med konstant vinkelfart ω om midtpunktet til sløyfa (stiplet linje på figuren). \n",
    "Normalvektoren   til sløyfa er inntegnet på figuren.\n",
    "Hvilke påstander er riktige:\n",
    "A.\tNår vinkelen mellom magnetfeltet og    er   , er verdien til den induserte emsen i sløyfa gitt ved    \n",
    "B.\tNår vinkelen mellom magnetfeltet og    er   , er verdien til den induserte emsen i sløyfa gitt ved   \n",
    "C.\tDen induserte emsen i sløyfa er konstant\n",
    "D.\tDen induserte emsen i sløyfa er størst når normalvektoren og magnetfeltet står vinkelrett på hverandre\n",
    "E.\tDen induserte emsen i sløyfa er størst når normalvektoren er parallelle\n",
    "F.\tTiden for ett omløp av sløyfa er       \n"
   ]
  }
 ],
 "metadata": {
  "language_info": {
   "name": "python"
  }
 },
 "nbformat": 4,
 "nbformat_minor": 2
}
