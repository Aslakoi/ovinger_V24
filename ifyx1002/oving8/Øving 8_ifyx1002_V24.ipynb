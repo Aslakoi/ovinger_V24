{
 "cells": [
  {
   "cell_type": "markdown",
   "metadata": {},
   "source": [
    "# Øving 8 IFYX1002\n",
    "## Oppgave 1\n",
    "To positive punktladninger  $+4q$  og $+q$ er plasserte en avstand $a$ fra hverandre. Se figuren under.\n",
    "\n",
    "<center><img src=\"figurer/oppgave_to_punktladninger_bestem_punkt_null_felt.png\" alt=\"\" style=\"width: 400px;\"/></center>\n",
    "\n",
    "Mellom disse to punktladningene finnes det et punkt P hvor det totale elektriske feltet er lik null. Bestem hvor langt unna ladningen $+4q$ dette punktet befinner seg.\n",
    "\n"
   ]
  },
  {
   "cell_type": "markdown",
   "metadata": {},
   "source": [
    "Oppgave 1\n",
    "Siden $E_{tot} = 0$ \n",
    "\n",
    "blir $E_{Q_{1}} - E_{Q_{2}} = 0$\n",
    "\n",
    "$E = \\frac{kQ}{r^2}$\n",
    "\n",
    "$\\downarrow$\n",
    "\n",
    "$\\frac{kQ_1}{r^2} - \\frac{kQ_2}{(a-r)^2} = 0$\n",
    "\n",
    "$\\downarrow$\n",
    "\n",
    "$\\frac{kQ_1}{r^2} = \\frac{kQ_2}{(a-r)^2}$ Stryker $k$ $\\frac{Q_1}{r^2} = \\frac{Q_2}{(a-r)^2}$\n",
    "\n",
    "$\\downarrow$\n",
    "\n",
    "$\\frac{(a-r)^2}{r^2} = \\frac{Q_2}{Q_1}$   \\qquad  $Q_1 = 4q$ og $Q_2 = q$\n",
    "\n",
    "$\\frac{(a-r)^2}{r^2} = \\frac{1}{4}$\n",
    "\n",
    "$\\downarrow$\n",
    "\n",
    "$r = \\frac{2}{3}a$\n",
    "\n",
    "Ladningen $4q$ er $\\frac{2}{3}a$ unna punktet P.\n",
    "\n",
    "\n",
    "\n"
   ]
  },
  {
   "cell_type": "markdown",
   "metadata": {},
   "source": [
    "## Oppgave 2\n",
    "En punktladning $+q$  er plassert på $x$-aksen i $(2a,0)$, og en annen punktladning $+2q$  er plassert på $y$-aksen i $(0,a)$. Se figuren under.\n",
    "\n",
    "<center><img src=\"figurer/oppgave_to_punktladninger_bestem_felt.png\" alt=\"\" style=\"width: 400px;\"/></center>\n",
    "\n",
    "Bestem det resulterende elektriske feltet $\\vec{E}$ i origo:\n",
    "\n",
    "a) Verdi, uttrykt ved $a$ og $q$\n",
    "\n",
    "b) Retningen"
   ]
  },
  {
   "cell_type": "markdown",
   "metadata": {},
   "source": [
    "a)\n",
    "\n",
    "$E = E_2 - E_1 = \\frac{k2q}{a^2} - \\frac{kq}{(2a)^2}$\n",
    "\n",
    "$E = kq(\\frac{2}{a^2} - \\frac{1}{4a^2})$\n",
    "\n",
    "$E = kq(\\frac{7}{4a^2})$\n",
    "\n",
    "$E = \\frac{7kq}{4a^2}$\n",
    "\n",
    "b)\n",
    "\n",
    "Siden begge er punktpartiklene er positive frastøtter de hverandre og har retning bort fra origo."
   ]
  },
  {
   "cell_type": "markdown",
   "metadata": {},
   "source": [
    "## Oppgave 3\n",
    "To små kuler med masse $m=15 \\textrm{ g}$  henger i hver sin tynne tråd med lengde $L=1,2 \\textrm{ m}$, som er festet i taket i et felles opphengingspunkt. De to kulene har lik ladning $+Q$, og begge snorene danner en vinkel $\\theta=25 ^{\\circ}$ med vertikalen. Se figuren under.\n",
    "\n",
    "<center><img src=\"figurer/oppgave_to_kuler_snor.png\" alt=\"\" style=\"width: 400px;\"/></center>\n",
    "\n",
    "a) Bestem ladningen $Q$ til de to kulene.\n",
    "\n",
    "b) Hvis vi betrakter kulene som punktladninger, bestem det elektriske potensialet i det felles opphengingspunktet for snorene fra ladningen på kulene, uttrykt ved $Q$, $L$ og evt. $\\theta$. \n"
   ]
  },
  {
   "cell_type": "markdown",
   "metadata": {},
   "source": [
    "# svar:\n",
    "\n",
    "a)\n",
    "\n",
    "Vi vet at systemet er i likevekt, da må summen av kreftene i x-retning være lik null og tilsvarende gjelder for y-retningen, det gir uttrykket\n",
    "\n",
    "$$\n",
    "\\begin{gathered}\n",
    "k_{e} \\cdot \\frac{Q^{2}}{(2 L \\sin{\\theta})^{2}} = mg \\tan{\\theta}\\\\\n",
    "\\end{gathered}\n",
    "$$\n",
    "\n",
    "Deretter kan vi løse for ladningen $Q$\n",
    "\n",
    "$$\n",
    "\\begin{gathered}\n",
    "Q = \\sqrt{mg \\frac{\\tan{\\theta} \\cdot (2 L \\sin{\\theta})^{2}}{k_{e}}} \\\\\n",
    "\\end{gathered}\n",
    "$$\n",
    "\n",
    "Vi har $k_{e} = \\frac{1}{4 \\pi \\epsilon_{0}} = 8,987 \\cdot 10^{9} \\frac{Nm^{2}}{C^{2}}$ og setter inn resten av verdiene vi har oppgitt\n",
    "\n",
    "$$\n",
    "\\begin{gathered}\n",
    "Q = \\sqrt{(0,015kg)(9.81m/s^{2}) \\frac{\\tan{25^{\\circ}} \\cdot (2 (1,2m) \\sin{25^{\\circ}})^{2}}{8,987 \\cdot 10^{9} \\frac{Nm^{2}}{C^{2}}}} \\\\\n",
    "\\\\\n",
    "= \\underline{\\underline{2.80 \\cdot 10^{-6} \\text{ C}}}\n",
    "\\end{gathered}\n",
    "$$\n",
    "\n",
    "b)\n",
    "\n",
    "Vi vet at opphengingspunktet er $L$ meter avstand fra begge ladningene, vi finner så at\n",
    "\n",
    "$$\n",
    "\\begin{gathered}\n",
    "U = k_{e} \\cdot \\frac{Q}{L}\n",
    "\\end{gathered}\n",
    "$$\n",
    "\n",
    "For begge ladningene\n",
    "\n",
    "$$\n",
    "\\begin{gathered}\n",
    "U = 2(k_{e} \\cdot \\frac{Q}{L})\\\\\n",
    "\\\\\n",
    "= 2(8,987 \\cdot 10^{9} \\frac{Nm^{2}}{C^{2}} \\cdot \\frac{2.80 \\cdot 10^{-6} \\text{ C}}{1,2 \\text{ m}})\\\\\n",
    "\\\\\n",
    "= \\underline{\\underline{41939.34 \\text{ V}}}\n",
    "\\end{gathered}\n",
    "$$\n"
   ]
  },
  {
   "cell_type": "markdown",
   "metadata": {},
   "source": [
    "## Oppgave 4\n",
    "I en blekkskriver blir blekkdråper med masse $m= 1,4 \\cdot 10^{-8} \\textrm{ kg}$ og horisontal fart $v_0=20 \\textrm{ m/s}$ tilført en elektrisk ladning $q$, og styres mot papiret ved hjelp av et homogent elektrisk felt mellom to metallplater. Metallplatene har lengde $d=2,0 \\textrm{ cm}$ og den elektriske feltstyrken mellom platene er $E=8,0 \\cdot 10^4 \\textrm{ N/C}$. Se figuren under.\n",
    "\n",
    "<center><img src=\"figurer/oppgave_blekkskriver_elektrisk_felt.png\" alt=\"\" style=\"width: 400px;\"/></center>\n",
    "\n",
    "Hva er ladningen til en blekkdråpe som avbøyes vertikalt en avstand $y=0,30 \\textrm{ mm}$? Tyngdekraften på blekkdråpen kan neglisjeres.\n",
    "\n"
   ]
  }
 ],
 "metadata": {
  "kernelspec": {
   "display_name": "Python 3",
   "language": "python",
   "name": "python3"
  },
  "language_info": {
   "codemirror_mode": {
    "name": "ipython",
    "version": 3
   },
   "file_extension": ".py",
   "mimetype": "text/x-python",
   "name": "python",
   "nbconvert_exporter": "python",
   "pygments_lexer": "ipython3",
   "version": "3.8.5"
  },
  "vscode": {
   "interpreter": {
    "hash": "551ea7ae10b114133e2fbac23ef1e8e3e30b0e580eb9fe1d9fc046518af6d1fa"
   }
  }
 },
 "nbformat": 4,
 "nbformat_minor": 2
}
