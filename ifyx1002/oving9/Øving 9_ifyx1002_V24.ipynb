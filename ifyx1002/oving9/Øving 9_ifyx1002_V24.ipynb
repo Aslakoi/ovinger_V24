{
 "cells": [
  {
   "cell_type": "markdown",
   "metadata": {},
   "source": [
    "# Øving 9 IFYX1002\n",
    "## Oppgave 1\n",
    "I et gammeldags TV-apparat tegnes bildet opp av elektroner som akselereres gjennom et elektrisk felt, og som deretter produserer en lysprikk når elektronet treffer en fosforbelagt skjerm.\n",
    "\n",
    "I et bestemt TV-apparat akselereres et elektron i det homogene feltet mellom to parallelle metallplater med plateavstand $d=20 \\textrm{ cm}$, der spenningen mellom platene er $\\Delta V=2,0 \\textrm{ kV}$. Se figuren under.\n",
    "\n",
    "<center><img src=\"figurer/oppgave_katodestråle_elektron_elektrisk_felt.png\" alt=\"\" style=\"width: 200px;\"/></center>\n",
    "\n",
    "a) Bestem farten til et elektron som akselereres med null startfart fra den negative plata, idet elektronet når den positive plata. \n",
    "\n",
    "b) Hva er den elektriske feltstyrken $E$ mellom platene?"
   ]
  },
  {
   "cell_type": "markdown",
   "metadata": {},
   "source": [
    "## Oppgave 2\n",
    "a) Bestem den ekvivalente kapasitansen mellom de to markerte punktene a og b i kretsen under, når kondensatorene har kapasitanser $C_1=3,0 \\ \\mu \\textrm{F}$, $C_2=6,0 \\ \\mu \\textrm{F}$, $C_3=2,0 \\ \\mu \\textrm{F}$ .\n",
    "\n",
    "<center><img src=\"figurer/oppgave_krets_kondensatorer_ekvivalent_kapasitans.png\" alt=\"\" style=\"width: 400px;\"/></center>\n",
    " \n",
    "Anta at spenningen mellom a og b er $V_{\\textrm{ab}}=12 \\textrm{ V}$.\n",
    "\n",
    "b)\tBestem mengden ladning lagret på hver av kondensatorene.\n",
    "\n",
    "c)\tBestem spenningen over hver av kondensatorene.\n"
   ]
  },
  {
   "cell_type": "markdown",
   "metadata": {},
   "source": [
    "## Oppgave 3\n",
    "Kobber har resistivitet $\\rho_{\\textrm{Cu}}=1,68 \\cdot 10^{-8} \\ \\Omega \\textrm{m}$, mens aluminium har $\\rho_{\\textrm{Al}}=2,65 \\cdot 10^{-8} \\ \\Omega \\textrm{m}$. Vi skal konstruere to kabler, én med kobberleder og én med aluminiumsleder. \n",
    "\n",
    "Hva må forholdet mellom diameteren til hhv. aluminiums- og kobberlederen være for at kablene skal ha samme resistans $R$ pr. lengdeenhet?"
   ]
  },
  {
   "cell_type": "markdown",
   "metadata": {},
   "source": [
    "## Oppgave 4\n",
    "En krets består av en motstand med resistans $R=1,00 \\textrm{ M}\\Omega$, en kondensator med kapasitans $C=5,00 \\ \\mu \\textrm{F}$, et batteri med ems $\\varepsilon=30,0 \\textrm{ V}$ og en bryter koblet i serie. Bryteren er i utgangspunktet åpen, og lukkes ved tiden $t=0$.\n",
    "\n",
    "a) Bestem tidskonstanten for kretsen.\n",
    "\n",
    "b) Bestem strømmen gjennom motstanden en tid $t=10,0 \\textrm{ s}$  etter at bryteren er lukket.\n",
    "\n",
    "c) Hvor lang tid tar det før kondensatoren er oppladet til 80 % av den maksimale ladningen den er i stand til å lagre?\n",
    "\n",
    "\n"
   ]
  }
 ],
 "metadata": {
  "kernelspec": {
   "display_name": "Python 3",
   "language": "python",
   "name": "python3"
  },
  "language_info": {
   "codemirror_mode": {
    "name": "ipython",
    "version": 3
   },
   "file_extension": ".py",
   "mimetype": "text/x-python",
   "name": "python",
   "nbconvert_exporter": "python",
   "pygments_lexer": "ipython3",
   "version": "3.8.5"
  },
  "vscode": {
   "interpreter": {
    "hash": "551ea7ae10b114133e2fbac23ef1e8e3e30b0e580eb9fe1d9fc046518af6d1fa"
   }
  }
 },
 "nbformat": 4,
 "nbformat_minor": 2
}
