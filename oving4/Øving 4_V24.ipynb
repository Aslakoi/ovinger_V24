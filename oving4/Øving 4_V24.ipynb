{
 "cells": [
  {
   "attachments": {},
   "cell_type": "markdown",
   "metadata": {},
   "source": [
    "# Øving 4\n",
    "## Oppgave 1\n",
    "\n",
    "Kula i et flipperspill skytes ut fra en fjærbelastet avtrekker. Spilleren trekker i fjæra slik at den presses sammen en avstand $x=7,0 \\textrm{ cm}$. Massen til kula er $80 \\textrm{ g}$, og flipperspillet har en helningsvinkel $\\theta=15^{\\circ}$. Kula sklir friksjonsfritt mot underlaget. Se figuren under.\n",
    "\n",
    "<center><img src=\"figurer/pinball_fjær.png\" alt=\"\" style=\"width: 500px;\"/></center>\n",
    "\n",
    "Hvor stor må fjærkonstanten $k$ til fjæra være dersom kula akkurat skal nå toppen av flipperspillet, som ligger en avstand $s=78 \\textrm{ cm}$ fra punktet der kula forlater fjæra (i punktet der fjæra er slapp)?\n",
    "\n"
   ]
  },
  {
   "cell_type": "markdown",
   "metadata": {},
   "source": [
    "#### **Svar**:\n",
    "\n",
    "\n",
    "Bruker arbeid-energi-setningen:\n",
    "\n",
    "$W = \\Delta U = \\Delta K$\n",
    "\n",
    "som gir:\n",
    "\n",
    "$\\frac{1}{2}v^{2}_{1} + \\frac{1}{2}mgh_{1} + \\frac{1}{2}kx^{2}_{1} = \\frac{1}{2}v^{2}_{0} + \\frac{1}{2}mgh_{0} + \\frac{1}{2}kx^{2}_{0}$\n",
    "\n",
    "som videre gir:\n",
    "\n",
    "$\\frac{1}{2}mgh_{1} = \\frac{1}{2}v^{2}_{0} + \\frac{1}{2}kx^{2}_{0}$\n",
    "\n",
    "deretter får vi uttrykket:\n",
    "\n",
    "$k = \\frac{2mgh}{x^{2}} \\implies \\frac{2mg\\cdot \\sin{\\theta} \\cdot s}{x^{2}} $\n",
    "\n",
    "\n",
    "\n",
    "$\\frac{2 \\cdot (0.08kg) \\cdot (9.81m/s^{2}) \\sin{15°} \\cdot 0.78 }{(0.07)^{2}}$\n",
    "\n",
    "$=\\underline{\\underline{64.68 N/m}}$\n",
    "\n"
   ]
  },
  {
   "attachments": {},
   "cell_type": "markdown",
   "metadata": {},
   "source": [
    "## Oppgave 2\n",
    "En vogn i en berg-og-dalbane starter i en viss høyde $h$ over det laveste punktet A i en sirkulær loop med radius $r$. To andre punkter i loopen er markerte: B er midtveis oppe, og C er det høyeste punktet. Se figuren under.\n",
    "\n",
    "<center><img src=\"figurer/oppgave_sirkelbevegelse_vogn_loop.png\" alt=\"\" style=\"width: 400px;\"/></center>\n",
    "\n",
    "I denne oppgaven skal vi se bort fra friksjon og luftmotstand.\n",
    "\n",
    "a) Fra hvilken høyde $h$ over punkt A må vogna slippes for at den skal kunne fullføre en hel loop uten å miste kontakten med underlaget?\n",
    "\n",
    "I de to neste oppgavene slippes vogna fra en starthøyde $h=3r$. Bestem normalkrafta på vogna, uttrykt ved vognas tyngde $G$, i\n",
    "\n",
    "b) Punkt C (toppen)\n",
    "\n",
    "c) Punkt B (midtveis til toppen)"
   ]
  },
  {
   "cell_type": "markdown",
   "metadata": {},
   "source": [
    "## Oppgave 3\n",
    "To curlingsteiner A og B med identisk masse $m=19 \\textrm{ kg}$ kolliderer i et rett, sentralt støt. Før støtet har stein A fart $v_{\\text{A}}=3,0 \\textrm{ m/s}$ mot høyre og stein B fart $v_{\\text{B}}=5,0 \\textrm{ m/s}$ mot venstre, og etter støtet har stein A fart $u_{\\text{A}}=4,5 \\textrm{ m/s}$ mot venstre. Se figuren under.\n",
    "\n",
    "<center><img src=\"figurer/curlingsteiner_kolliderer.png\" alt=\"\" style=\"width: 400px;\"/></center>\n",
    "\n",
    "a) Finn farten til stein B etter støtet.\n",
    "\n",
    "b) Var støtet elastisk?"
   ]
  },
  {
   "cell_type": "markdown",
   "metadata": {},
   "source": [
    "## Oppgave 4\n",
    "To fallskjermhoppere A og B med identiske masser $m=70 \\textrm{ kg}$ faller vertikalt fra samme starthøyde med null startfart. A faller med hodet først og har frontareal $A=0,17 \\textrm{ m}^2$ og \"drag-koeffisient\" $C_d=0,70$; B faller liggende og har $A=1,0 \\textrm{ m}^2$ og $C_d=1,0$. Vi forutsetter kvadratisk luftmotstand $F_D=\\frac{1}{2} \\rho A C_d v^2$ med $\\rho=1,29 \\textrm{ kg/m}^3$, og tyngdeakselerasjonen $g$ kan antas konstant over fallhøyden.\n",
    "\n",
    "a) Finn ved regning terminalhastighetene for A og B.\n",
    "\n",
    "I de to siste oppgavene skal vi bruke Python til å løse bevegelseslikningene numerisk. \n",
    "\n",
    "b) Gitt følgende Python-funksjon som beregner luftmotstanden (drag) som funksjon av frontareal $A$, drag-koeffisient $C_d$ og fart $v$, for en gitt (konstant) verdi av luftas massetetthet $\\rho$:\n",
    "```\n",
    "\n",
    " def drag(A,C,v):\n",
    "    \"\"\"Input:\n",
    "    A: Frontareal [m^2]\n",
    "    C: Drag-koeffisient []\n",
    "    v: Fart [m/s]\n",
    "    \"\"\"\n",
    "    rho=1.29 \n",
    "    k=0.5*rho*A*C\n",
    "    ?\n",
    "\n",
    "```\n",
    "Hvilken Python-kode skal stå i linja markert med ? for at funksjonen skal gi luftmotstanden i newton som funksjon av inndataene?\n",
    "\n",
    "A. ```return k*v**2```\n",
    "B. ```return k*(v/3.6)**2```\n",
    "C. ```return k*(v/3,6)**2```\n",
    "D. ```return k*(v*3.6)**2```\n",
    "E. ```return k*(v*3,6)**2```\n",
    "\n",
    "c) Ta utgangspunkt i den ferdige rutinen for Eulers metode med tidssteg $\\Delta t = 0,10 \\textrm{ s}$ til å beregne tiden $t$ det tar det før hopperne har nådd 98 % av sine terminalhastigheter, og den vertikale høyden $h$ hopperen har falt på dette tidspunktet (målt fra startpunktet). \n",
    "\n",
    "[Hint: Numpy-funksjonen ```argmax``` kan brukes til å finne den laveste/første indeksen der elementene i en NumPy-array oppfyller en viss betingelse. Eksempel: for ``` a=np.array([0.1,2.4,4.0,9.4])```  vil ``` np.argmax(a>3)```  returnere ``` 2``` , dvs. ``` a[2]=4.0```  er det første elementet som oppfyller a>3. I denne oppgaven: Dersom terminalfarten er ``` v_terminal```, og ```v_liste``` er en array med fartsverdiene, dvs. $v(t)$, og man vil finne ut hvilken $t$-verdi som tilsvarer 98 % av terminalfarten, blir syntaksen ```np.argmax(v>0.98*v_terminal)``` (\"første/laveste indeks som oppfyller at farten er **større** enn 98 % av terminalfarten\"). Hvis denne returnerer f.eks. 199 (verdi av indeks), kan man hente ut $t$-verdien fra tids-arrayet med ```t_liste[199]```].\n",
    "<div style=\"page-break-after: always\"></div>"
   ]
  },
  {
   "cell_type": "markdown",
   "metadata": {},
   "source": [
    "#### Svar:\n",
    "\n",
    "a) Fra newtons 2. lov:\n",
    "\n",
    "$\\sum F = 0$\n",
    "\n",
    "gir $G - f_d = 0$\n",
    "\n",
    "deretter får vi:\n",
    "\n",
    "$v_{max}=\\sqrt{\\frac{mg}{k}} \\implies \\sqrt{\\frac{2mg}{A \\rho C_{d}}}$\n",
    "\n",
    "og setter inn for verdiene vi har oppgitt:\n",
    "\n",
    "for A: $v_{max}=\\sqrt{\\frac{2(70,0kg) \\cdot (9,81m/s^{2})}{0,17m^{2} \\cdot 1,29 kg/m^{3} \\cdot 0,70}} = \\underline{\\underline{94,58 m/s}}$\n",
    "\n",
    "og B: $v_{max}=\\sqrt{\\frac{2(70,0kg) \\cdot (9,81m/s^{2})}{1,0m^{2} \\cdot 1,29 kg/m^{3} \\cdot 1,0}} = \\underline{\\underline{32,63 m/s}}$\n"
   ]
  },
  {
   "cell_type": "markdown",
   "metadata": {},
   "source": []
  },
  {
   "cell_type": "markdown",
   "metadata": {},
   "source": [
    "b, c)"
   ]
  },
  {
   "cell_type": "code",
   "execution_count": 1,
   "metadata": {},
   "outputs": [],
   "source": [
    "import numpy as np\n",
    "import matplotlib.pyplot as plt\n",
    "\n",
    "# Globale konstanter\n",
    "m=70 #Legemets masse i kg\n",
    "g=9.81 #Tyngdeakselerasjonen i m/s^2\n",
    "\n",
    "def drag(A,C,v):\n",
    "    rho=1.29 \n",
    "    k=0.5*rho*A*C\n",
    "    #? Her må du legge inn riktig kode for at funksjonen skal returnere \n",
    "    #luftmotstanden (drag) i newton\n",
    "    return k*v**2\n",
    "\n",
    "\n",
    "def dXdt(X):\n",
    "   \"\"\"Funksjonen dXdt beregner høyresiden f(X) i differensiallikningssystemet; dX/dt=f(X).\n",
    "   Input:\n",
    "   X:  X=[y,v] en vektor som inneholder posisjon y og (vertikal) fart v. Med positiv retning\n",
    "   nedover er v > 0 og y < 0    for et legeme som faller vertikalt mot bakken, der y = 0.\n",
    "   \n",
    "   Output:\n",
    "   [dydt,dvdt]: Array med nye verdier for hastighet (dydt) og akselerasjon (dvdt)\n",
    "   \"\"\"\n",
    "   y , v =X        #Koordinater y og v hentes fra inndatavektor X\n",
    "   f=drag(A,C,v)   #Luftmotstand i N\n",
    "   dydt=v          #Sammenhengen mellom y og v er at v = dy/dt\n",
    "   dvdt=-f/m+g     #Akselerasjonen a=dv/dt, fra Newtons 2. lov\n",
    "   return np.array([dydt,dvdt])\n",
    "\n",
    "def euler(t0,y0,v0,dt):\n",
    "    \"\"\"Funksjon som bruker Eulers metode til å løse et system av differensiallikninger,\n",
    "    dX/dt = f(X), der X =[y,v] er\n",
    "    en vektor som inneholder posisjons- og hastighetsvariable. \n",
    "    Input: \n",
    "    t0: Starttid [s]\n",
    "    y0: Startverdi for y [m]\n",
    "    v0: Vertikal startfart [m/s]\n",
    "    dt: Tidssteg [s]\n",
    "\n",
    "    Output:\n",
    "    t_liste: array med t-verdier,[t0,...tn]\n",
    "    y_liste: array med y-verdier, [y0,...,yn]\n",
    "    v_liste: array med v-verdier, [v0,...,vn]\n",
    "    \"\"\"\n",
    "\n",
    "    X0=np.array([y0,v0]) #X0 er en vektor med posisjon og fart ved t=t0\n",
    "    t_liste=[0.0]# Liste med t-verdier\n",
    "    y_liste=[y0]# liste med y-verdier\n",
    "    v_liste=[v0] # liste med v-verdier\n",
    "    X=X0  # initierer loop\n",
    "    t=t0\n",
    "    y=y0\n",
    "    while y<=0: #Loop kjøres inntil legemet treffer bakken; pos. retning nedover gir y0 < 0\n",
    "        Xn=X+dt*dXdt(X) #Beregner neste steg Xn i Euler-metoden\n",
    "        y=Xn[0] #Henter ut y-koordinat fra array\n",
    "        v=Xn[1] #Henter ut fart v fra array\n",
    "        t_liste.append(t) # t-verdi legges til liste\n",
    "        y_liste.append(y)# y-verdi legges til liste\n",
    "        v_liste.append(v)# v-verdi legges til liste\n",
    "        t=t+dt #Ny tidsverdi\n",
    "        X=Xn #Ny verdi for X \n",
    "    return t_liste,y_liste,v_liste"
   ]
  },
  {
   "cell_type": "code",
   "execution_count": 3,
   "metadata": {},
   "outputs": [
    {
     "name": "stdout",
     "output_type": "stream",
     "text": [
      "v_terminal: 37.71 m/s\n"
     ]
    },
    {
     "data": {
      "image/png": "[encoded data removed]",
      "text/plain": [
       "<Figure size 1000x800 with 1 Axes>"
      ]
     },
     "metadata": {},
     "output_type": "display_data"
    }
   ],
   "source": [
    "#Eksempel på bruk av rutinene\n",
    "#Initialiserer variable \n",
    "t0=0.0 #t = 0 i startpunktet\n",
    "v0=0 #Startfart\n",
    "y0=-2000 #Med positiv retning nedover, er y-verdier negative over bakken. \n",
    "#Her starter fallet 2,0 km over bakken.\n",
    "dt=0.1 #Tidssteg\n",
    "A=0.9 #Frontareal\n",
    "C=0.8 #Drag-koeffisient\n",
    "\n",
    "#Bruker Eulers metode til å generere sammenhengende verdier for t, y og v\n",
    "t_liste,y_liste,v_liste=euler(t0,y0,v0,dt)\n",
    "\n",
    "v_terminal=v_liste[np.argmax(v_liste>0.98*v_liste[-1])]\n",
    "\n",
    "print(f'v_terminal: {v_terminal:.2f} m/s')\n",
    "\n",
    "#Plotter fartsgraf v(t)\n",
    "plt.figure(figsize = (10, 8))\n",
    "#Diagrammet angir hvilke verdier for A og C som er tilhører grafen\n",
    "plt.plot(t_liste,v_liste,color=\"red\",label='A = '+str(A)+\", C = \"+str(C)) \n",
    "plt.xlabel(\"Tid [s]\")\n",
    "plt.ylabel(\"Fart [m/s]\")\n",
    "plt.legend()\n",
    "plt.show()"
   ]
  }
 ],
 "metadata": {
  "kernelspec": {
   "display_name": "Python 3",
   "language": "python",
   "name": "python3"
  },
  "language_info": {
   "codemirror_mode": {
    "name": "ipython",
    "version": 3
   },
   "file_extension": ".py",
   "mimetype": "text/x-python",
   "name": "python",
   "nbconvert_exporter": "python",
   "pygments_lexer": "ipython3",
   "version": "3.12.1"
  },
  "vscode": {
   "interpreter": {
    "hash": "551ea7ae10b114133e2fbac23ef1e8e3e30b0e580eb9fe1d9fc046518af6d1fa"
   }
  }
 },
 "nbformat": 4,
 "nbformat_minor": 2
}
