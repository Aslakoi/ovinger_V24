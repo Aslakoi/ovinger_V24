{
 "cells": [
  {
   "attachments": {},
   "cell_type": "markdown",
   "metadata": {},
   "source": [
    "# Øving 4\n",
    "## Oppgave 1\n",
    "\n",
    "Kula i et flipperspill skytes ut fra en fjærbelastet avtrekker. Spilleren trekker i fjæra slik at den presses sammen en avstand $x=7,0 \\textrm{ cm}$. Flipperspillet har en helningsvinkel $\\theta=15^{\\circ}$. Se figuren under.\n",
    "\n",
    "<center><img src=\"figurer/pinball_fjær.png\" alt=\"\" style=\"width: 400px;\"/></center>\n",
    "\n",
    "Hvor stor må fjærkonstanten $k$ til fjæra være dersom kula akkurat skal nå toppen av flipperspillet, som ligger en avstand $s=78 \\textrm{ cm}$ fra punktet der kula forlater fjæra (i punktet der fjæra er slapp).\n",
    "\n"
   ]
  },
  {
   "attachments": {},
   "cell_type": "markdown",
   "metadata": {},
   "source": [
    "## Oppgave 2\n",
    "En vogn i en berg-og-dalbane starter i en viss høyde $h$ over det laveste punktet A i en sirkulær loop med radius $R$. To andre punkter i loopen er markerte: B er midtveis oppe, og C er det høyeste punktet. Se figuren under.\n",
    "\n",
    "<center><img src=\"figurer/oppgave_sirkelbevegelse_vogn_loop.png\" alt=\"\" style=\"width: 400px;\"/></center>\n",
    "\n",
    "I denne oppgaven skal vi se bort fra friksjon og luftmotstand.\n",
    "\n",
    "a) Fra hvilken høyde $h$ over punkt A må vogna slippes for at den skal kunne fullføre en hel loop uten å miste kontakten med underlaget?\n",
    "\n",
    "b) Hva er normalkrafta på vogna i det høyeste punktet i loopen dersom den slippes fra en starthøyde $h=3R$?\n"
   ]
  },
  {
   "cell_type": "markdown",
   "metadata": {},
   "source": [
    "Oppgave x\n",
    "Bevegelsesmengde?"
   ]
  },
  {
   "cell_type": "markdown",
   "metadata": {},
   "source": [
    "## Oppgave 3\n",
    "To fallskjermhoppere A og B med identiske masser $m=70 \\textrm{ kg}$ faller vertikalt fra samme starthøyde. A faller med hodet først og har frontareal $A=0,17 \\textrm{ m}^2$ og \"drag-koeffisient\" $C_d=0,70$; B faller liggende og har $A=1,0 \\textrm{ m}^2$ og $C_d=1,0$.\n",
    "\n",
    "a) Finn ved regning terminalhastighetene for A og B.\n",
    "\n",
    "De to siste oppgavene skal besvares ved å løse bevegelseslikningene numerisk. Ta gjerne utgangspunkt i rutinene til slutt i dokumentet.\n",
    "\n",
    "b) Hvor lang tid tar det før hopperne har nådd 98 % av sine terminalhastigheter?\n",
    "\n",
    "c) Hvor langt har de falt (målt fra startpunktet) idet de når 98 % av terminalhastigheten sin?"
   ]
  },
  {
   "cell_type": "code",
   "execution_count": 5,
   "metadata": {},
   "outputs": [],
   "source": [
    "#Rutiner for simulering av vertikalt fall med luftmotstand\n",
    "\n",
    "import numpy as np\n",
    "import matplotlib.pyplot as plt\n",
    "\n",
    "# Globale konstanter\n",
    "m=70 #Legemets masse i kg\n",
    "g=9.81 #Tyngdeakselerasjonen i m/s^2\n",
    "\n",
    "def drag(A,C,v):\n",
    "    \"Funksjonen drag beregner luftmotstanden f=kv^2, der k = 0.5*rho*C*A\"\n",
    "    rho=1.28 # Massetetthet luft i kg/m**3 \n",
    "    k=0.5*rho*A*C #Koeffisienten k i f=kv^2\n",
    "    return k*v**2\n",
    "\n",
    "def dXdt(X):\n",
    "   \"\"\"Funksjonen dXdt beregner høyresiden f(X) i differensiallikningssystemet; dX/dt=f(X).\n",
    "   Input:\n",
    "   X:  X=[y,v] en vektor som inneholder posisjon y og (vertikal) fart v. Med positiv retning nedover er v > 0 og y < 0 \n",
    "   for et legeme som faller vertikalt mot bakken.\n",
    "   \n",
    "   Output:\n",
    "   [dydt,dvdt]: Array med nye verdier for hastighet (dydt) og akselerasjon (dvdt)\n",
    "   \"\"\"\n",
    "   y , v =X        #Koordinater y og v hentes fra inndatavektor X\n",
    "   f=drag(A,C,v)   #Luftmotstand i N\n",
    "   dydt=v          #Sammenhengen mellom \n",
    "   dvdt=-f/m+g     #Akselerasjonen, fra Newtons 2. lov\n",
    "   return np.array([dydt,dvdt])\n",
    "\n",
    "def euler(t0,y0,v0,dt):\n",
    "    \"\"\"Funksjon som bruker Eulers metode til å løse et system av differensiallikninger dX/dt = f(X), der X =[y,v] er\n",
    "    en vektor som inneholder posisjons- og hastighetsvariable. \n",
    "    Input: \n",
    "    t0: Starttid [s]\n",
    "    y0: Startverdi for y [m]\n",
    "    v0: Vertikal startfart [m/s]\n",
    "    dt: Tidssteg [s]\n",
    "\n",
    "    Output:\n",
    "    t_liste: array med t-verdier,[t0,...tn]\n",
    "    y_liste: array med y-verdier, [y0,...,yn]\n",
    "    v_liste: array med v-verdier, [v0,...,vn]\n",
    "    \"\"\"\n",
    "\n",
    "    X0=np.array([y0,v0]) #X0 er en vektor med posisjon og fart ved t=t0\n",
    "    t_liste=[0.0]# Liste med t-verdier\n",
    "    y_liste=[y0]# liste med y-verdier\n",
    "    v_liste=[v0] # liste med v-verdier\n",
    "    X=X0  # initierer loop\n",
    "    t=t0\n",
    "    y=y0\n",
    "    while y<=0: #Loop kjøres inntil legemet treffer bakken; med pos. retning nedover er y0 < 0\n",
    "        Xn=X+dt*dXdt(X) #Beregner neste steg i Euler-metoden\n",
    "        y=Xn[0]\n",
    "        v=Xn[1] # henter elementene\n",
    "        t_liste.append(t) # t-verdi legges til liste\n",
    "        y_liste.append(y)# y-verdi legges til liste\n",
    "        v_liste.append(v)# v-verdi legges til liste\n",
    "        t=t+dt\n",
    "        X=Xn\n",
    "    return t_liste,y_liste,v_liste"
   ]
  },
  {
   "cell_type": "code",
   "execution_count": 6,
   "metadata": {},
   "outputs": [
    {
     "data": {
      "image/png": "[encoded data removed]",
      "text/plain": [
       "<Figure size 720x576 with 1 Axes>"
      ]
     },
     "metadata": {
      "needs_background": "light"
     },
     "output_type": "display_data"
    }
   ],
   "source": [
    "#Eksempel på bruk av rutinene\n",
    "t0=0.0\n",
    "v0=0\n",
    "y0=-1000 #NB! Med positiv retning nedover, er y-verdier negative over bakken. Her starter fallet 1,0 km over bakken.\n",
    "dt=0.01\n",
    "A=0.9\n",
    "C=0.8\n",
    "t_liste,y_liste,v_liste=euler(t0,y0,v0,dt)\n",
    "plt.figure(figsize = (10, 8))\n",
    "plt.plot(t_liste,v_liste,color=\"red\",label='A = '+str(A)+\", C = \"+str(C))\n",
    "plt.xlabel(\"Tid [s]\")\n",
    "plt.ylabel(\"Fart [m/s]\")\n",
    "plt.legend()\n",
    "plt.show()"
   ]
  },
  {
   "cell_type": "code",
   "execution_count": null,
   "metadata": {},
   "outputs": [],
   "source": []
  }
 ],
 "metadata": {
  "kernelspec": {
   "display_name": "Python 3",
   "language": "python",
   "name": "python3"
  },
  "language_info": {
   "codemirror_mode": {
    "name": "ipython",
    "version": 3
   },
   "file_extension": ".py",
   "mimetype": "text/x-python",
   "name": "python",
   "nbconvert_exporter": "python",
   "pygments_lexer": "ipython3",
   "version": "3.8.5"
  },
  "vscode": {
   "interpreter": {
    "hash": "551ea7ae10b114133e2fbac23ef1e8e3e30b0e580eb9fe1d9fc046518af6d1fa"
   }
  }
 },
 "nbformat": 4,
 "nbformat_minor": 2
}
