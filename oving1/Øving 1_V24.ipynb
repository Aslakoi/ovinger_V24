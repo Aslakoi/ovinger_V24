{
 "cells": [
  {
   "cell_type": "markdown",
   "metadata": {},
   "source": [
    "# Øving 1"
   ]
  },
  {
   "cell_type": "markdown",
   "metadata": {},
   "source": [
    "## Oppgave 1\n",
    "a) Hvor mange $\\text{ m/s}^2$  tilsvarer en akselerasjon på  $1\\text{ km/h}^2$ ?\n",
    "\n",
    "b) En bestemt elbil oppgis å ha et energiforbruk ved blandet kjøring på $1 \\textrm{ kWh/mil}$. Hva tilsvarer dette i joule per meter; $\\textrm{J/m}$?\n",
    "\n",
    "\n",
    "\n",
    "Oppgitt: $1 \\textrm{ kWh}=3,6 \\cdot 10^6 \\textrm{ J}$, $1 \\textrm{ mil}=10 \\textrm{ km}$."
   ]
  },
  {
   "cell_type": "markdown",
   "metadata": {},
   "source": [
    "$ \\text{opg A: } 1 \\, \\text{km/h}^2 = \\frac{1000 \\, \\text{m}}{{(3600 \\, \\text{s})}^2} = \\frac{1}{{3.6} \\times 3600} = \\frac{1}{12960} \\, \\text{m/s}^2$\n"
   ]
  },
  {
   "cell_type": "markdown",
   "metadata": {},
   "source": [
    "$ \\text{opg B: } 1 \\, \\text{kWh/mil} = \\frac{3.6 \\times 10^6 \\, \\text{J}}{1 \\times 10^4 \\, \\text{m}} = 360 \\, \\frac{\\text{J}}{\\text{m}} $\n"
   ]
  },
  {
   "attachments": {},
   "cell_type": "markdown",
   "metadata": {},
   "source": [
    "## Oppgave 2\n",
    "En bil som kjører i $30 \\text{ km/h}$ bremses opp og stopper etter $30 \\text{ m}$. Bilens akselerasjon er konstant på stoppestrekningen. \n",
    "\n",
    "a) Hvor stor er akselerasjonen under oppbremsingen?\n",
    "\n",
    "b) Hvor lang tid tar det før bilen stanser?\n",
    "\n",
    "Bilen bremses så opp fra dobbelt så stor hastighet, $60 \\text{ km/h}$. Anta samme akselerasjon som funnet i a). \n",
    "\n",
    "c) Hvor lang er bremsestrekningen og bremsetiden nå i forhold til oppbremsingen i a)?"
   ]
  },
  {
   "cell_type": "markdown",
   "metadata": {},
   "source": [
    "$\\text{Opg. a}$\n",
    "\n",
    "$\\text{Utleder } a = \\frac{v^2 - v_0^2}{2\\times x} \\text{ fra } 2ax = v^2 - v_0^2 \\text{ og setter inn verdiene som er oppgitt: } a = \\frac{(0)^2 - (\\frac{25}{3})^2}{2 \\times 30} = -\\frac{125}{108} ≈ {-1.157 \\, \\frac{m}{s^2}} \\, (\\frac{25}{3}  \\,\\frac{m}{s} \\text{kommer fra} \\, \\frac{30\\frac{km}{h}}{3.6} \\,)$\n",
    "\n",
    "$\\text{Opg. b}$\n",
    "\n",
    "$\\text{Bruker bevegelseslikning } v = v_0 + at \\text{ gir } t = \\frac{v - v_0}{a} \\text{ da kan vi sette inn verdiene: } $ \n",
    "\n",
    "$t = \\frac{(0) - {(\\frac{25}{3})}}{-\\frac{125}{108}} = 7.2 \\, s $\n",
    "\n",
    "$\\text{Opg. c} $\n",
    "\n",
    "$\\text{Finner passende bevegelseslikning: } 2ax = v^2 - v_0^2 \\text{ og løser for strekning } \\text{sørger for at vi jobber med meter per sekund: } \\frac{60\\frac{km}{h}}{3.6} = \\frac{50}{3} \\, m/s $\n",
    "\n",
    "$\\text{strekning: } x = \\frac{v^2 - v_0^2}{2 \\times a} = \\frac{(0)^2 - {(\\frac{50}{3})^2}}{2\\times-\\frac{125}{108}} = 120 \\, m $\n",
    "\n",
    "$\\text{tid: } t = \\frac{(0) - {(\\frac{50}{3})}}{-\\frac{125}{108}} = 14.4 \\, s$\n",
    "\n",
    "\n",
    "\n"
   ]
  },
  {
   "attachments": {},
   "cell_type": "markdown",
   "metadata": {},
   "source": [
    "## Oppgave 3\n",
    "En fartssynder i en personbil passerer en politibil, som står parkert i veikanten, i $100 \\text{ km/h}$ og fortsetter med konstant hastighet. Etter $2,0 \\text{ s}$ tar politibilen opp jakten på personbilen med konstant akselerasjon. \n",
    "\n",
    "a) Skisser posisjon-tid-grafen for politibilen og personbilen dersom $x=0$ er politibilens startpunkt, og $t=0$ er tidspunktet der politibilen starter jakten.\n",
    "\n",
    "b) Hva må politibilens akselerasjon være for å ta igjen personbilen $1,0 \\text{ km}$ etter passeringspunktet?\n",
    "\n",
    "c) Hva er politibilens sluttfart idet den tar igjen personbilen?"
   ]
  },
  {
   "attachments": {},
   "cell_type": "markdown",
   "metadata": {},
   "source": [
    "## Oppgave 4\n",
    "<center><img src=\"figurer/oppgave_akselerasjonsgraf_tog.png\" alt=\"\" style=\"width: 500px;\"/></center>\n",
    "\n",
    "Grafen ovenfor oppgir akselerasjonen $a(t)$ til et tog som kjører mellom to stasjoner. Toget begynner å kjøre fra ro ved $t=0$ og beveger seg deretter rettlinjet til det stanser ved neste stasjon. \n",
    "\n",
    "Hvilke av følgende påstander om bevegelsen er riktige?\n",
    "\n",
    "A. Hastigheten er størst ved $t_1$.\n",
    "\n",
    "B. Hastigheten er størst ved $t_2$.\n",
    "\n",
    "C. Hastigheten er størst i tidsrommet $[t_3,t_4]$.\n",
    "\n",
    "D. Toget begynner å bremse ved $t_2$.\n",
    "\n",
    "E. Toget begynner å bremse ved $t_3$.\n",
    "\n",
    "F. Toget begynner å bremse ved $t_4$. \n",
    "\n",
    "G. Arealet under grafen mellom $t_1$ og $t_2$ gir tilbakelagt strekning i dette tidsrommet.\n",
    "\n",
    "H. Arealet under grafen mellom $t_1$ og $t_2$ gir hastighetsendringen i dette tidsrommet. \n",
    "\n",
    "I. Stigningstallet til grafen i et punkt gir togets hastighet på dette tidspunktet."
   ]
  },
  {
   "cell_type": "markdown",
   "metadata": {},
   "source": [
    "$ \\text{De riktige påstandene er [C, D, H] her er begrunnelse:} \\\\\n",
    "\\text{C: } \\\\\n",
    "\\text{a(t) er positiv helt frem til } t_3, \\text{ hvor akselerasjonen er lik 0 en periode.} \\\\\n",
    "\\text{Det betyr at farten har økt helt frem til dette punktet. Deretter avtar farten.} \\\\[12pt]\n",
    "\\text{F: } \\\\\n",
    "\\text{bremsing på grafen gjenkjennes som stedet der grafen går nedover, eller har negativt stigningstall,} \\\\\n",
    "\\text{som vi ser er i } t_2  \\\\[12pt] \n",
    "\\text{H: } \\\\\n",
    "\\text{integralet av a(t) = v(t), det samlede arealet mellom to punkt blir da fartsendringen mellom de punktene} $\n"
   ]
  }
 ],
 "metadata": {
  "kernelspec": {
   "display_name": "Python 3",
   "language": "python",
   "name": "python3"
  },
  "language_info": {
   "codemirror_mode": {
    "name": "ipython",
    "version": 3
   },
   "file_extension": ".py",
   "mimetype": "text/x-python",
   "name": "python",
   "nbconvert_exporter": "python",
   "pygments_lexer": "ipython3",
   "version": "3.11.5"
  }
 },
 "nbformat": 4,
 "nbformat_minor": 2
}
