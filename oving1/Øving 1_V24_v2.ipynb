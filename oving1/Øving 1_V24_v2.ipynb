{
 "cells": [
  {
   "cell_type": "markdown",
   "metadata": {},
   "source": [
    "# Øving 1"
   ]
  },
  {
   "attachments": {},
   "cell_type": "markdown",
   "metadata": {},
   "source": [
    "## Oppgave 1\n",
    "a) En bil som kjører i $30 \\text{ km/t}$ bremses opp og stopper etter $30 \\text{ m}$. Bilens akselerasjon er konstant på stoppestrekningen. \n",
    "\n",
    "i) Hvor stor er akselerasjonen under oppbremsingen? \\\n",
    "ii) Hvor lang tid tar det før bilen stanser?\n",
    "\n",
    "b) Bilen bremses så opp fra dobbelt så stor hastighet, $60 \\text{ km/t}$. Anta samme akselerasjon som funnet i a). \n",
    "\n",
    "Hvor lang er bremsestrekningen og bremsetiden nå i forhold til oppbremsingen i a)?"
   ]
  },
  {
   "attachments": {},
   "cell_type": "markdown",
   "metadata": {},
   "source": [
    "## Oppgave 2\n",
    "En personbil passerer en politibil, som står i ro, i $100 \\text{ km/t}$ og fortsetter med konstant hastighet. Etter $2,0 \\text{ s}$ begynner politibilen å kjøre etter med konstant akselerasjon. \n",
    "\n",
    "Hva må politibilens akselerasjon være for å ta igjen personbilen $1,0 \\text{ km}$ etter passeringspunktet?"
   ]
  },
  {
   "attachments": {},
   "cell_type": "markdown",
   "metadata": {},
   "source": [
    "## Oppgave 3\n",
    "<center><img src=\"figurer/oving1_akselerasjonsgraf.png\" alt=\"\" style=\"width: 250px;\"/></center>\n",
    "\n",
    "Grafen ovenfor oppgir akselerasjonen til en bil som kjører mellom to lyskryss, som en funksjon av tid. Bilen begynner å kjøre fra ro foran det første lyskrysset i $t=0$ og beveger seg så langs en rett vei til den stanser ved neste lyskryss. \n",
    "\n",
    "Hvilke av følgende påstander om bevegelsen er riktige?\n",
    "\n",
    "A. Hastigheten er størst ved $t_1$. \\\n",
    "B. Hastigheten er størst ved $t_2$. \\\n",
    "C. Hastigheten er størst ved $t_3$. \\\n",
    "D. Bilen begynner å bremse ved $t_2$. \\\n",
    "E. Bilen begynner å bremse ved $t_3$. \\\n",
    "F. Bilen begynner å bremse ved $t_4$. \\\n",
    "G. Arealet under grafen mellom $t_1$ og $t_2$ gir tilbakelagt strekning i dette tidsrommet. \\\n",
    "H. Arealet under grafen mellom $t_1$ og $t_2$ gir hastighetsendringen i dette tidsrommet. \\\n",
    "I. Stigningstallet til grafen i et punkt gir bilens hastighet i dette tidspunktet."
   ]
  },
  {
   "cell_type": "code",
   "execution_count": null,
   "metadata": {},
   "outputs": [],
   "source": []
  }
 ],
 "metadata": {
  "kernelspec": {
   "display_name": "Python 3",
   "language": "python",
   "name": "python3"
  },
  "language_info": {
   "codemirror_mode": {
    "name": "ipython",
    "version": 3
   },
   "file_extension": ".py",
   "mimetype": "text/x-python",
   "name": "python",
   "nbconvert_exporter": "python",
   "pygments_lexer": "ipython3",
   "version": "3.8.5"
  }
 },
 "nbformat": 4,
 "nbformat_minor": 2
}
