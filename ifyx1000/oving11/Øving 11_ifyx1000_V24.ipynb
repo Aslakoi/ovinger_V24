{
 "cells": [
  {
   "cell_type": "markdown",
   "metadata": {},
   "source": [
    "# Øving 11 IFYX1000\n",
    "\n",
    "## Oppgave 1\n",
    "To klosser A og B med identisk masse $m$ svinger i identiske fjærer med fjærkonstant $k$. Begge klossene er nedsenket i den samme væsken som gir opphav til en bremsende kraft $F_D=bv$, der $v$ er klossens fart og dempingskonstanten $b$ oppfyller $\\frac{b}{2m}<\\sqrt{\\frac{k}{m}}$. \n",
    "\n",
    "Kloss A svinger horisontalt, mens kloss B svinger vertikalt. Se figuren under.\n",
    "\n",
    "<center><img src=\"figurer/oppgave_horisontale_vertikale_svingninger.png\" alt=\"\" style=\"width: 250px;\"/></center>\n",
    "\n",
    "a) Hvilke påstander er riktige?\n",
    "\n",
    "A. Svingefrekvensen til A er større enn svingefrekvensen til B.\n",
    "\n",
    "B. Svingefrekvensen til A er mindre enn svingefrekvensen til B.\n",
    "\n",
    "C. Klossene har samme svingefrekvens.\n",
    "\n",
    "D. Svingefrekvensen øker med økende demping (økende verdi for $b$)\n",
    "\n",
    "E. Svingefrekvensen avtar med økende demping (økende verdi for $b$)\n",
    "\n",
    "F. Svingefrekvensen er uavhengig av dempingen (verdien på $b$)\n",
    "\n",
    "b) Hva er fjærforlengelsen for kloss B når den henger helt i ro (dvs. hvor mye strekkes fjæra på grunn av klossens tyngde)?\n",
    "\n",
    "c) Ved $t=0$ dras kloss A ut til en amplitude $A$ og slippes med null startfart. Hva blir uttrykket for utsvinget $x(t)$ for klossen?\n",
    "<div style=\"page-break-after: always\"></div> "
   ]
  },
  {
   "cell_type": "markdown",
   "metadata": {},
   "source": [
    "## Oppgave 2\n",
    "En lastecontainer som henger i en kabel fra en heisekran kan ansees som en svakt dempet pendel der pendelutslaget (vinkelen mellom lasten og vertikalretningen) er gitt ved\n",
    "\n",
    "$$\\theta(t)=\\theta_0 e^{-at} \\cos(\\omega t),$$\n",
    "\n",
    "der $\\theta_0$ er startutslaget ved $t=0$ og $a$ er en positiv dempingskonstant som skal bestemmes. Se figuren under.\n",
    "\n",
    "<center><img src=\"figurer/oppgave_heisekran_last_dempet_pendel.png\" alt=\"\" style=\"width: 200px;\"/></center>\n",
    "\n",
    "Lasten begynner å pendle fra en startvinkel $\\theta_0=10^{\\circ}$ med null starfart. Etter $10 \\textrm{ s}$ er det maksimale vinkelutslaget redusert til $7,0^{\\circ}$. Bestem verdien av dempingskonstanten $a$.\n"
   ]
  },
  {
   "cell_type": "markdown",
   "metadata": {},
   "source": [
    "## Oppgave 3\n",
    "En kloss med masse $m$ som er nedsenket i en væske med dempingskonstant $b$, svinger horisontalt i en fjær med fjærkonstant $k$. Klossen påvirkes av en periodisk ytre kraft $F(t)=F_0 \\sin (\\omega t)$, der kraftas vinkelfrekvens $\\omega$ kan justeres. Se figuren under.\n",
    "\n",
    "<center><img src=\"figurer/oppgave_tvungne_dempede_svingninger_kloss_stempel.png\" alt=\"\" style=\"width: 200px;\"/></center>\n",
    "\n",
    "La $A_{\\textrm{ max}}$ være klossens amplitude når $\\omega$ er lik systemets resonansfrekvens $\\omega_0$. Systemets dempingskonstant er gitt ved $b=\\frac{1}{5} \\cdot m \\omega_0$.\n",
    "\n",
    "Hva blir amplituden når $\\omega=\\frac{\\omega_0}{2}$ (\"halvveis til resonansfrekvensen\")? Uttrykk svaret ved $A_{\\textrm{ max}}$."
   ]
  },
  {
   "cell_type": "markdown",
   "metadata": {},
   "source": [
    "## Oppgave 4\n",
    "Figuren under viser resonanskurven for et dempet svingesystem i form av en masse $m$ som svinger i en fjær, som påvirkes av en periodisk ytre kraft $F(t)=F_0 \\sin (\\omega t)$. Kurven viser amplituden $A(\\omega)$ som funksjon av vinkelfrekvensen  $\\omega$ til den ytre kraften. \n",
    "\n",
    "<center><img src=\"figurer/oppgave_resonanskurve.png\" alt=\"\" style=\"width: 400px;\"/></center>\n",
    "\n",
    "Graden av demping i systemet bestemmes av dempingskoeffisienten $\\frac{b}{2m}$. Bestem verdien for $\\frac{b}{2m}$ ut fra figuren. [Hint: Les av amplitudeverdier for $\\omega=0$ og $\\omega=\\omega_0$, og bruk uttrykket for $A(\\omega)$. Merk at du kun skal finne forholdet $\\frac{b}{2m}$; ikke $b$ og $m$ separat.]"
   ]
  }
 ],
 "metadata": {
  "language_info": {
   "name": "python"
  }
 },
 "nbformat": 4,
 "nbformat_minor": 2
}
