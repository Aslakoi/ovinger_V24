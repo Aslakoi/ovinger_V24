{
 "cells": [
  {
   "cell_type": "markdown",
   "metadata": {},
   "source": [
    "# Øving 9 IFYX1000\n",
    "## Oppgave 1\n",
    "Vi skal stikke et lite hull på et åpent pappbeger med høyde $H$, som er helt fylt med vann. Vannstrålen er horisontal idet den kommer ut av hullet, og hullet har mye mindre tverrsnitt enn selve begeret. Vi kan se bort for alle former for tap. Se figuren under. \n",
    "\n",
    "<center><img src=\"figurer/oppgave_hull_vannbeger.png\" alt=\"\" style=\"width: 400px;\"/></center>\n",
    "\n",
    "I hvilken avstand $y$ fra bunnen av begeret må vi stikke hullet for at vannstrålen som strømmer ut skal treffe lengst mulig unna begeret, dvs. størrelsen $x$ på figuren skal bli størst mulig? Uttrykk svaret ved begerets høyde $H$. "
   ]
  },
  {
   "cell_type": "markdown",
   "metadata": {},
   "source": [
    "## Oppgave 2\n",
    "Et vannreservoar tømmes gjennom et rør med lengde $L=70 \\textrm{ m}$, diameter $D=0,80 \\textrm{ m}$ og ruhet $\\varepsilon= 0,64 \\textrm{ mm}$. Høyden $h$ til vannspeilet over vannutløpet kan reguleres. Lufttrykket over vannspeilet, samt ved rørutløpet, er $p_0=101 \\textrm{ kPa}$. Røret har mye mindre tverrsnitt enn tverrsnittet til reservoaret. Se figuren under. \n",
    "\n",
    "<center><img src=\"figurer/oppgave_tomming_av_tank_tapsledd.png\" alt=\"\" style=\"width: 400px;\"/></center>\n",
    "\n",
    "\n",
    "Vannføringen i røret skal være $8,0 \\textrm{ m}^3 \\textrm{/s}$.\n",
    "\n",
    "\n",
    "a) Bestem rørets friksjonsfaktor $f$ fra Moodys diagram.\n",
    "\n",
    "Hva må $h$ være for å opprettholde ønsket vannføring dersom vi \n",
    "\n",
    "b) kun tar hensyn til rørfriksjon (og ikke til tap i rørinnløp osv.)?\n",
    "\n",
    "c) i tillegg til rørfriksjon, inkluderer en enkeltmotstand i innløpet med tapskoeffisient $\\zeta=1,0$?"
   ]
  },
  {
   "cell_type": "markdown",
   "metadata": {},
   "source": [
    "## Oppgave 3\n",
    "Et vannkraftanlegg har et inntaksmagasin A, og en turbin B som ligger $h=400 \\textrm{ m}$ lavere enn vannspeilet i A. Rørledningen har innvendig diameter $D=1,0 \\textrm{ m}$ og lengde $L=2,0 \\textrm{ km}$. Se figuren under.\n",
    "\n",
    "<center><img src=\"figurer/oppgave_vannkraft_turbin.png\" alt=\"\" style=\"width: 500px;\"/></center>\n",
    "\n",
    "\n",
    "Volumstrømmen i røret ned mot turbinen er $14 \\textrm{ m}^3 \\textrm{/s}$, og røret har ruhet $\\varepsilon= 0,10 \\textrm{ mm}$. Vi kan se bort fra tap i inn- og utløp (dvs. vi tar kun hensyn til rørfriksjon).\n",
    "\n",
    "a) Bestem rørets friksjonsfaktor $f$ fra Moodys diagram.\n",
    "\n",
    "b) Regn ut tapshøyden på grunn av rørfriksjon.\n",
    "\n",
    "c) Hva er den maksimale effekten som kan hentes ut av turbinen?"
   ]
  }
 ],
 "metadata": {
  "language_info": {
   "name": "python"
  }
 },
 "nbformat": 4,
 "nbformat_minor": 2
}
