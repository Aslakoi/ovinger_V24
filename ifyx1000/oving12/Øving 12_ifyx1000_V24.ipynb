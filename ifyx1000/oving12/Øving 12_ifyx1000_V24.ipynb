{
 "cells": [
  {
   "cell_type": "markdown",
   "metadata": {},
   "source": [
    "# Øving 12 IFYX1000\n",
    "\n",
    "## Oppgave 1\n",
    "En tversbølge på en streng er beskrevet av uttrykket\n",
    "\n",
    "$y(x,t)=(1,00 \\textrm{ m})\\sin(0,500 \\textrm{ m}^{-1}x-0,100 \\textrm{ s}^{-1}t)$.\n",
    "\n",
    "Bestem:\n",
    "\n",
    "a) Bølgelengden\n",
    "\n",
    "b) Perioden\n",
    "\n",
    "c) Bølgefarten\n",
    "\n",
    "d) Den maksimale vertikale hastigheten til et punkt på bølgen"
   ]
  },
  {
   "cell_type": "markdown",
   "metadata": {},
   "source": [
    "## Oppgave 2\n",
    "Figuren under viser to øyeblikksbilder av en bølge som beveger seg mot høyre (positiv $x$-retning). Punkt A ($t=0$) og B ($t=2,0 \\textrm{ s}$) angir samme punkt på bølgen ved de to tidspunktene.\n",
    "\n",
    "<center><img src=\"figurer/oppgave_bølge.png\" alt=\"\" style=\"width: 600px;\"/></center>\n",
    "\n",
    "Bestem:\n",
    "\n",
    "a) Bølgelengden\n",
    "\n",
    "b) Bølgefarten\n",
    "\n",
    "c) Perioden\n",
    "\n",
    "<div style=\"page-break-after: always\"></div>"
   ]
  },
  {
   "cell_type": "markdown",
   "metadata": {},
   "source": [
    "## Oppgave 3\n",
    "Følgende to tversbølger møtes:\n",
    "\n",
    "$y_1(x,t)=(1,0 \\textrm{ m}) \\sin(1,0 \\textrm{ m}^{-1}\\cdot x+1,0 \\textrm{ s}^{-1} \\cdot t)$\n",
    "\n",
    "$y_2(x,t)=(1,0 \\textrm{ m}) \\sin(1,0 \\textrm{ m}^{-1} \\cdot x-1,0 \\textrm{ s}^{-1} \\cdot t)$\n",
    "\n",
    "a) Hva slags type bølge resulterer dette i?\n",
    "\n",
    "Bestem følgende for den resulterende bølgen:\n",
    "\n",
    "b) Amplitude\n",
    "\n",
    "c) Bølgelengde\n",
    "\n",
    "d) Frekvens"
   ]
  },
  {
   "cell_type": "markdown",
   "metadata": {},
   "source": [
    "## Oppgave 4\n",
    "a) En pianostreng med lengde $L=1,00 \\textrm{ m}$ og lineær massetetthet $\\mu=56,0 \\textrm{ g/m}$ skal strammes slik at grunnfrekvensen for strengen, som er spent fast i begge ender, blir $f_1=65,0 \\textrm{ Hz}$.\n",
    "\n",
    "Hva må snorstrammingen (\"tension\") i strengen være?\n",
    "\n",
    "b) Figuren under viser et stående bølgemønster på den samme pianostrengen som i a). \n",
    "\n",
    "<center><img src=\"figurer/oppgave_stående_bølger_streng.png\" alt=\"\" style=\"width: 600px;\"/></center>\n",
    "\n",
    "Hvilken frekvens tilsvarer bølgemønsteret på figuren?"
   ]
  }
 ],
 "metadata": {
  "language_info": {
   "name": "python"
  }
 },
 "nbformat": 4,
 "nbformat_minor": 2
}
