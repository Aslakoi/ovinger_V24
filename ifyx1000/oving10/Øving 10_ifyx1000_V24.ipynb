{
 "cells": [
  {
   "cell_type": "markdown",
   "metadata": {},
   "source": [
    "# Øving 10 IFYX1000\n",
    "\n",
    "## Oppgave 1\n",
    "En kloss med masse $m$ er festet til en masseløs fjær med fjærkonstant $k$. Klossen dras ut til en amplitude $A$ og slippes med null startfart. Underlaget er friksjonsfritt, så klossen vil svinge harmonisk mellom ytterpunktene $x=\\pm A$. \n",
    "\n",
    "På figuren under er det avmerket 4 punkter: Startpunktet $x=A$; punktet $x=\\frac{A}{2}$, likevektsposisjonen $x=0$ og venstre ytterpunkt $x=-A$.\n",
    "\n",
    "<center><img src=\"figurer/oppgave_harmonisk_svingning_fart_akselerasjon.png\" alt=\"\" style=\"width: 600px;\"/></center>\n",
    "\n",
    "Hvilke påstander om klossens akselerasjon og fart er riktige?\n",
    "\n",
    "A. Absoluttverdien av klossens akselerasjon er maksimal i $x=\\pm A$\n",
    "\n",
    "B. Absoluttverdien av klossens akselerasjon er maksimal i $x=\\frac{A}{2}$\n",
    "\n",
    "C. Absoluttverdien av klossens akselerasjon er maksimal i $x=0$\n",
    "\n",
    "A. Absoluttverdien av klossens fart er maksimal i $x=\\pm A$\n",
    "\n",
    "B. Absoluttverdien av klossens fart er maksimal i $x=\\frac{A}{2}$\n",
    "\n",
    "C. Absoluttverdien av klossens fart er maksimal i $x=0$\n",
    "\n"
   ]
  },
  {
   "cell_type": "markdown",
   "metadata": {},
   "source": [
    "## Oppgave 2\n",
    "Tre pendler A, B og C på figuren under svinger med små utslag:\n",
    "\n",
    "<center><img src=\"figurer/oppgave_matematisk_og_fysisk_pendel.png\" alt=\"\" style=\"width: 300px;\"/></center>\n",
    "\n",
    "Pendel A: ørliten kule med masse $m$ som svinger i enden av en masseløs snor med lengde $L$\n",
    "\n",
    "Pendel B: tynn stang med masse $m$ og lengde $L$ som svinger om den ene enden\n",
    "\n",
    "Pendel C: homogen kule med masse $m$ og radius $r$ som svinger i enden av en masseløs snor med lengde $L$\n",
    "\n",
    "Hva blir størrelsesforholdet mellom svingetidene/periodene $T_{A}$, $T_{B}$ og $T_{C}$ for de respektive pendlene? Vi ser bort fra alle typer demping/tap.\n",
    "\n",
    "A. $T_{A}>T_{B}>T_{C}$\n",
    "\n",
    "B. $T_{A}>T_{B}=T_{C}$\n",
    "\n",
    "C. $T_{B}>T_{A}>T_{C}$\n",
    "\n",
    "D. $T_{C}>T_{A}>T_{B}$\n",
    "\n",
    "E. $T_{A}=T_{B}=T_{C}$"
   ]
  },
  {
   "cell_type": "markdown",
   "metadata": {},
   "source": [
    "## Oppgave 3\n",
    "Et kvadratisk legeme består av fire identiske, tynne, uniforme staver, hver med lengde $L$ og masse $m$. Legemet henges opp i ett av hjørnene, og trekkes litt ut til siden. Når det slippes, vil det svinge harmonisk om oppheningspunktet. Se figuren under.\n",
    "\n",
    "<center><img src=\"figurer/oppgave_kvadrat_pendel.png\" alt=\"\" style=\"width:300px;\"/></center>\n",
    "\n",
    "a) Bestem treghetsmomentet $I$ til kvadratet om opphengingspunktet.\n",
    "\n",
    "b) Bestem frekvensen $f$ til kvadratets svingninger."
   ]
  },
  {
   "cell_type": "markdown",
   "metadata": {},
   "source": [
    "## Oppgave 4\n",
    "En tynn, sirkulær metallskive med masse $M$ og radius $R$ er festet til en kabel i skivas sentrum. Når skiva vris og slippes, svinger den med en periode $T$. Se figuren under.\n",
    "\n",
    "<center><img src=\"figurer/oppgave_torsjonspendel_skive.png\" alt=\"\" style=\"width:300px;\"/></center>\n",
    "\n",
    "\n",
    "\n",
    "Bestem torsjonskonstanten $\\kappa$ for kabelen, uttrykt ved $M$, $R$ og $T$."
   ]
  },
  {
   "cell_type": "markdown",
   "metadata": {},
   "source": []
  }
 ],
 "metadata": {
  "language_info": {
   "name": "python"
  }
 },
 "nbformat": 4,
 "nbformat_minor": 2
}
