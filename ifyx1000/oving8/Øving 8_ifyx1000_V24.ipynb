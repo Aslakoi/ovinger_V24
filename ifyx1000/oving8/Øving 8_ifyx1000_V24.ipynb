{
 "cells": [
  {
   "cell_type": "markdown",
   "metadata": {},
   "source": [
    "# Øving 8 IFYX1000\n",
    "## Oppgave 1\n",
    "En terning har sidekant $10 \\textrm{ cm}$. Materialet er av tre med tetthet $700 \\textrm{ kg/m}^3$. Terningen står fullstendig neddykka i vannet slik at sidekantene er enten horisontale eller vertikale. Et tau som er festet i bunnen og midt på ene sidekanten av terningen, holder terningen i ro.\n",
    "\n",
    "a) Regn ut oppdrifta på terningen.\n",
    "\n",
    "b) Regn ut snordraget $T$ i snøret. [Hint: Lag aller først en figur som viser alle kreftene på terningen.]\n"
   ]
  },
  {
   "cell_type": "markdown",
   "metadata": {},
   "source": [
    "## Oppgave 2\n",
    "Du skal bestemme massetettheten til en ukjent væske ved hjelp av en prismeformet flottør av homogent materiale, samt et beger ferskvann med kjent tetthet $1000 \\textrm{ kg/m}^3$. \n",
    "\n",
    "Når flottøren flyter fritt i vann er $58 \\textrm{ mm}$ av sidekanten under vann. Når flottøren flyter fritt i den ukjente væska er $46 \\textrm{ mm}$ av sidekanten under vann. Flottøren flyter slik at sidekantene er vertikale eller horisontale.\n",
    "\n",
    "Bestem massetettheten $\\rho$ til den ukjente væska."
   ]
  },
  {
   "cell_type": "markdown",
   "metadata": {},
   "source": [
    "## Oppgave 3\n",
    "En sugekopp har sirkelform med diameter  $100 \\textrm{ mm}$. Sugekoppen blir pressa opp mot ei glatt takflate og vi antar at all luft mellom sugekopp og tak blir pressa ut. Se figuren under.\n",
    "\n",
    "<center><img src=\"figurer/oppgave_sugekopp_holdekraft.png\" alt=\"\" style=\"width: 200px;\"/></center>\n",
    "\n",
    "Hva er den maksimale massen $M$ sugekoppen kan holde uten å falle ned dersom lufttrykket er $1,00 \\textrm{ atm}$? Vi kan neglisjere vekta av selve sugekoppen."
   ]
  },
  {
   "cell_type": "markdown",
   "metadata": {},
   "source": [
    "## Oppgave 4\n",
    "En hydraulisk løfter er fylt med olje med tetthet $900 \\textrm{ kg/m}^3$. Bilen har en masse på $M=1300 \\textrm{ kg}$ og hviler på et sirkelformet stempel med diameter $d_2=250 \\textrm{ mm}$. Til å løfte bilen bruker man trykkluft som presser ned det minste stempelet, som er sirkelforma med diameter $d_1=60 \\textrm{ mm}$. Vi kan anse oljen som inkompressibel, og vi ser bort fra massen til stemplene. Se figuren under.\n",
    "\n",
    "<center><img src=\"figurer/oppgave_loftebukk.png\" alt=\"\" style=\"width: 400px;\"/></center>\n",
    "\n",
    "a) Til å begynne med er begge stemplene i samme høyde over \"bunnen\", som vist på figuren. Hvor stort lufttrykk må vi ha over det minste stempelet i dette tilfellet?\n",
    "\n",
    "b) I stedet for trykkluft plasserer vi et menneske på det minste stempelet. Hvor stor masse må personen ha for at begge stemplene skal være i samme høyde over \"bunnen\"?\n",
    "\n",
    "c) Hvor stort luftrykk må vi ha over det minste stemplet for at det store stempelet skal stå  $2,0 \\textrm{ m}$ høyere enn det minste? "
   ]
  },
  {
   "cell_type": "markdown",
   "metadata": {},
   "source": [
    "## Oppgave 5\n",
    "Vann strømmer ut av en åpen tank gjennom et tapperør. Tanken har sirkulært tverrsnitt med diameter på $d_1=3,0 \\textrm{ m}$ og vannspeilet ligger i høyde $h_1=5,0 \\textrm{ m}$ over bunnen, mens tapperøret har en diameter på $d_2=3,0 \\textrm{ cm}$ og rørets senter ligger i en høyde $h_2=0,50 \\textrm{ m}$ over bunnen. Se figuren under.\n",
    "\n",
    "<center><img src=\"figurer/oppgave_tomming_tank.png\" alt=\"\" style=\"width: 400px;\"/></center>\n",
    "\n",
    "Bestem volumstrømmen ut av tanken idet tømmingen starter."
   ]
  }
 ],
 "metadata": {
  "kernelspec": {
   "display_name": "Python 3",
   "language": "python",
   "name": "python3"
  },
  "language_info": {
   "codemirror_mode": {
    "name": "ipython",
    "version": 3
   },
   "file_extension": ".py",
   "mimetype": "text/x-python",
   "name": "python",
   "nbconvert_exporter": "python",
   "pygments_lexer": "ipython3",
   "version": "3.8.5"
  },
  "vscode": {
   "interpreter": {
    "hash": "551ea7ae10b114133e2fbac23ef1e8e3e30b0e580eb9fe1d9fc046518af6d1fa"
   }
  }
 },
 "nbformat": 4,
 "nbformat_minor": 2
}
