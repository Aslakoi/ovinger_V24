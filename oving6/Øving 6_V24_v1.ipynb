{
 "cells": [
  {
   "attachments": {},
   "cell_type": "markdown",
   "metadata": {},
   "source": [
    "# Øving 6\n",
    "## Oppgave 1\n",
    "Grafen under viser vinkelhastigheten $\\omega(t)$ for en batteridrevet drill fra den startes ved $t=0$:\n",
    "\n",
    "<center><img src=\"figurer/vinkelfart_graf.png\" alt=\"\" style=\"width: 200px;\"/></center>\n",
    "\n",
    "\n",
    "a) Hvilken av grafene A-E under viser riktig graf for drillens vinkelakselerasjon $\\alpha(t)$?\n",
    "\n",
    "<center><img src=\"figurer/vinkelakselerasjon_grafer.png\" alt=\"\" style=\"width: 400px;\"/></center>\n",
    "\n",
    "b) For en annen drill beskrives vinkelfarten $\\omega(t)$ av funksjonsuttrykket $\\omega(t)=(10 \\textrm{ rad/s}) \\arctan(0,50 \\textrm{ s}^{-1}t)$. \n",
    "\n",
    "Hvor mange omdreininger roterer drillen fra $t=0$ til $t=10 \\textrm{ s}$? [Hint: Rotert vinkel $\\theta$ kan beregnes ved numerisk utregning av integralet $\\int_a^b \\arctan x dx$. Se appendiks for eksempel.]\n",
    "\n",
    "c) En bestemt elektromotor klarer å produsere en jevnt økende vinkelakselerasjon $\\alpha(t)=bt$, der $b=1,0 \\textrm{ rad/s}^3$ og $t$ angis i sekunder.\n",
    "\n",
    "Bestem vinkelfarten $\\omega(t)$ og rotert vinkel $\\theta(t)$.\n",
    "\n",
    "\n"
   ]
  },
  {
   "attachments": {},
   "cell_type": "markdown",
   "metadata": {},
   "source": [
    "## Oppgave 2\n",
    "Rotasjonshastigheten til svinghjulet på en spinningsykkel øker jevnt fra stillestående til 90 rpm i løpet av $5,0 \\textrm{ s}$. \n",
    "\n",
    "a) Bestem svinghjulets vinkelakselerasjon i dette tidsrommet. \\\n",
    "b) Ved en annen anledning gjennomgår svinghjulet følgende prosess:\n",
    "1. Jevn økning fra 0 til 90 rpm i løpet av $5,0 \\textrm{ s}$\n",
    "2. Konstant rotasjonshastighet i $60 \\textrm{ s}$\n",
    "3. Hjulet bremses jevnt til stillestående i løpet av $5,0 \\textrm{ s}$.\n",
    "\n",
    "Hvor mange omdreininger har svinghjulet gjort i løpet av denne prosessen?\n"
   ]
  },
  {
   "attachments": {},
   "cell_type": "markdown",
   "metadata": {},
   "source": [
    "## Oppgave 3\n",
    "En sykkel har hjul med diameter 29 tommmer. Hvor mange omdreininger per minutt har hjulet når sykkelen har en fart på $30 \\textrm{ km/h}$ i forhold til underlaget?"
   ]
  },
  {
   "attachments": {},
   "cell_type": "markdown",
   "metadata": {},
   "source": [
    "## Oppgave 4\n",
    "\n",
    "a) Vi skal gjøre et overslag over treghetsmomentet til en et menneske med masse $m$ ut i fra følgende primitive modell for menneskekroppen, der massen til de ulike kroppsdelene angis som prosentandelen av personens totale masse $m$. Rotasjonsaksen er  en vertikal akse gjennom personens symmetrilinje. Se figuren under:\n",
    "\n",
    "<center><img src=\"figurer/menneskekropp.png\" alt=\"\" style=\"height: 200px;\"/></center>\n",
    "\n",
    "1. 5 %: Kuleformet hode med radius $r$\n",
    "2. 55 % sylinderformet overkropp med radius $2r$ \n",
    "3. 5 % hver: Arm formet som tynn stang, i avstand $2r$ fra aksen\n",
    "4. 15 % hver: Bein formet som tynn stang, i avstand $2r$ fra aksen\n",
    "\n",
    "Bestem treghesmomentet til en person om den angitte aksen, som funksjon av personens totale masse $m$ og hodets radius $r$.\n",
    "\n",
    "b) Hva blir treghetsmomentet for en person med masse $70 \\textrm{ kg}$ og hodeomkrets $60 \\textrm{ cm}$? \n",
    "\n",
    "\n",
    "\n"
   ]
  },
  {
   "cell_type": "code",
   "execution_count": 1,
   "metadata": {},
   "outputs": [
    {
     "name": "stdout",
     "output_type": "stream",
     "text": [
      "(0.017724538509055157, 2.8523435201026483e-10)\n"
     ]
    }
   ],
   "source": [
    "#Appendiks: Numerisk integrasjon \n",
    "import numpy as np\n",
    "import math\n",
    "import scipy.integrate as integrate\n",
    "\n",
    "#Definerer funksjonen f(t) som skal integreres\n",
    "def f(t):\n",
    "    tau=0.010\n",
    "    f=math.exp(-(t/tau)**2)\n",
    "    return f\n",
    " \n",
    "#Beregner integralet på intervallet (-uendelig,uendelig) \n",
    "I=integrate.quad(f,-np.inf,np.inf)\n",
    "print(I)\n"
   ]
  },
  {
   "cell_type": "code",
   "execution_count": null,
   "metadata": {},
   "outputs": [],
   "source": []
  }
 ],
 "metadata": {
  "kernelspec": {
   "display_name": "Python 3",
   "language": "python",
   "name": "python3"
  },
  "language_info": {
   "codemirror_mode": {
    "name": "ipython",
    "version": 3
   },
   "file_extension": ".py",
   "mimetype": "text/x-python",
   "name": "python",
   "nbconvert_exporter": "python",
   "pygments_lexer": "ipython3",
   "version": "3.8.5"
  },
  "vscode": {
   "interpreter": {
    "hash": "551ea7ae10b114133e2fbac23ef1e8e3e30b0e580eb9fe1d9fc046518af6d1fa"
   }
  }
 },
 "nbformat": 4,
 "nbformat_minor": 2
}
