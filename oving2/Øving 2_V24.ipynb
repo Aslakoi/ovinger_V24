{
 "cells": [
  {
   "cell_type": "markdown",
   "metadata": {},
   "source": [
    "# Øving 2"
   ]
  },
  {
   "attachments": {},
   "cell_type": "markdown",
   "metadata": {},
   "source": [
    "## Oppgave 1\n",
    "\n",
    "<center><img src=\"figurer/oving2_oppgave_stup.png\" alt=\"\" style=\"width: 250px;\"/></center>\n",
    "\n",
    "En stuper hopper fra en klippe som har et horisontalt utspring som vist i figuren ovenfor. Utspringet har bredde $d=1,75 \\text{ m}$ og befinner seg en høyde $h=9,00 \\text{ m}$ nedenfor toppen av klippen. \n",
    "\n",
    "Hvor høy horisontal hastighet $v_0$ må stuperen minst ha på toppen av klippen for å akkurat unngå utspringet?"
   ]
  },
  {
   "cell_type": "markdown",
   "metadata": {},
   "source": [
    "## oppgave 1\n",
    "vi vil finne ut av nødvendig $v_0x$ for å klarere 1,75m over ett 9m vertikalt stup. <br>\n",
    "vi kan finne tiden til fallhøyden ved denne formelen: $h = \\frac{1}{2}g t^2 => t = \\sqrt{\\frac{2d}{g}}$ => $t = 1,35s$ <br>\n",
    "$v_0x = \\frac{1.75m}{1.35s} = 1,3 m/s$ \n",
    "stuperen trenger en horisontal startfart på MINST 1,3 m/s"
   ]
  },
  {
   "attachments": {},
   "cell_type": "markdown",
   "metadata": {},
   "source": [
    "## Oppgave 2\n",
    "To kanoner med munninger i samme punkt avfyres samtidig. De skyter kuler med samme startfart, men i hver sin vinkel, som illustrert i figuren under. Begge kanoner har munning på bakkenivå, samme som blinkene A og B. Den grønne kanonen skyter mer vertikalt mot blink A, mens den blå skyter mer horisontalt mot blink B. Vi ser bort i fra luftmotstand. \n",
    "\n",
    "<center><img src=\"figurer/oving2_to_ulike_startvinkler.png\" alt=\"\" style=\"width: 250px;\"/></center>\n",
    "\n",
    "Hvilke av følgende påstander er riktige?\n",
    "\n",
    "A. Den grønne kanonen treffer blink A først.\n",
    "\n",
    "B. Den blå kanonen treffer blink B først.\n",
    "\n",
    "C. Blinkene treffes samtidig.\n",
    "\n",
    "D. Den blå kula treffer blink med større fart enn den grønne.\n",
    "\n",
    "E. Kulene treffer blinkene med samme fart.\n",
    "\n"
   ]
  },
  {
   "cell_type": "markdown",
   "metadata": {},
   "source": [
    "$\\text{de riktige påstandene er [B, E]} \\\\[12pt]$\n",
    "## B \n",
    "vi lurer på hvor lang tid det tar for ballene å treffe bakken, siden komponentene er uavhengige <br>\n",
    "er vi kun interesset i Y komponenten: $t = \\frac{2 v_0 \\sin(\\theta)}{g}$ hvor $v_0sin$ blir $v_0y.$ <br>\n",
    "Jo større vinkelen er, jo større blir verdien til sin, og tiden ballen bruker på å returnere til <br>\n",
    "0-nivå blir høyere\n",
    "\n",
    "## E\n",
    "energi hos kulene er bevart, dvs. $\\frac{1}{2}mv_0 ^2 = \\frac{1}{2}mv ^2$ <br>\n",
    "hvis de har samme $v_0$ vil de da ha samme fart til slutt"
   ]
  },
  {
   "cell_type": "markdown",
   "metadata": {},
   "source": [
    "# Oppgave 3\n",
    "En fjærkanon skyter en kule med startfart $v_0$  mot en blink som ligger i en horisontal avstand \n",
    "$x$  og vertikal avstand $y$  fra munningen, som illustrert i figuren under. \n",
    "\n",
    "<center><img src=\"figurer/oppgave_skrått_kast.png\" alt=\"\" style=\"width: 250px;\"/></center>\n",
    "\n",
    "a) Utskytingsvinkelen $\\alpha$ skal bestemmes slik at kula treffer midt i blinken. Dette kan vi gjøre ved å sette opp en trigonometrisk likning for $\\alpha$, uttrykt ved $v_0$, $x$ og $y$.\n",
    "\n",
    "Vi skal løse likninga for $\\alpha$ numerisk i Python med funksjonen ```fsolve``` fra pakken ```scipy.optimize```. Denne forutsetter at likninga som skal løses, skrives på formen $f(\\alpha)=0$, dvs. $f(\\alpha)$ er venstresiden i likninga når alle ledd er flyttet over slik at høyresiden er null.\n",
    "\n",
    "Dersom vi velger positiv $y$-retning **oppover** (slik at $y<0$ på bakkenivå), bestem funksjonen $f(\\alpha)$ for å kunne løse likninga ved hjelp av ```fsolve```.\n",
    "\n",
    "A. $f(\\alpha)=y+\\frac{1}{2}\\frac{gx^2}{v_0^2 \\cos^2 \\alpha}$\n",
    "\n",
    "B. $f(\\alpha)=y+\\frac{1}{2}\\frac{gx^2}{v_0^2 \\cos^2 \\alpha}-x \\tan \\alpha$\n",
    "\n",
    "C. $f(\\alpha)=y-\\frac{1}{2}\\frac{gx^2}{v_0^2 \\cos^2 \\alpha}+x \\tan \\alpha$\n",
    "\n",
    "D. $f(\\alpha)=-y+\\frac{1}{2}\\frac{gx^2}{v_0^2 \\cos^2 \\alpha}-x \\tan \\alpha$\n",
    "\n",
    "E. $f(\\alpha)=-y+\\frac{1}{2}\\frac{gx^2}{v_0^2 \\cos^2 \\alpha}$\n",
    "\n",
    "b) Hva må utskytingsvinkelen $\\alpha$ være for at kula skal treffe midt i blinken dersom startfarten $v_0 = 4,0 \\text{ m/s}$, $x = 1,5 \\text{ m}$ og blinken ligger en vertikal avstand $0,40 \\text{ m}$ under utskytingspunktet? NB! Pass på valget av positiv vertikalretning! Det kan finnes flere gyldige vinkler. Bakest i øvinga finnes eksempelkode som viser et eksempel på bruken av ```fsolve```."
   ]
  },
  {
   "cell_type": "code",
   "execution_count": 2,
   "metadata": {},
   "outputs": [
    {
     "data": {
      "image/png": "[encoded data removed]",
      "text/plain": [
       "<Figure size 640x480 with 1 Axes>"
      ]
     },
     "metadata": {},
     "output_type": "display_data"
    },
    {
     "name": "stdout",
     "output_type": "stream",
     "text": [
      "Løsning i nærheten av x=1:  1.0990926911824948\n"
     ]
    }
   ],
   "source": [
    "#a) og b)\n",
    "from scipy.optimize import fsolve\n",
    "import numpy as np\n",
    "import matplotlib.pyplot as plt\n",
    "\n",
    "v0 = 4\n",
    "x = 1.5\n",
    "y = 0.4\n",
    "g = 9.81\n",
    "\n",
    "def f(a):\n",
    "    return y - 0.5*((g*x**2)/((v0**2)*np.cos(a)**2)) + x*np.tan(a)\n",
    "\n",
    "t = np.linspace(-np.pi/2,np.pi/2)\n",
    "plt.axis([-2,2,-10,5])\n",
    "plt.grid()\n",
    "plt.axhline(color='black', lw=0.5)\n",
    "plt.plot(t,f(t))\n",
    "plt.show()\n",
    "\n",
    "start = 1\n",
    "sol = fsolve(f, start)\n",
    "print(\"Løsning i nærheten av x=1: \",sol[0])"
   ]
  },
  {
   "attachments": {},
   "cell_type": "markdown",
   "metadata": {},
   "source": [
    "## Oppgave 4\n",
    "\n",
    "a) En bil starter med null startfart og kjører med jevnt økende banefart i en sirkelformet rundkjøring. En passasjer i bilen bruker akselerometrene i mobiltelefonen til å måle baneakselerasjonen $a_{\\parallel}$ og sentripetalakselerasjonen $a_{\\perp}$ til bilen som funksjon av tiden. \n",
    "\n",
    "Hvilken av grafene under viser $a_{\\parallel}(t)$ og $a_{\\perp}(t)$ for bilen?\n",
    "\n",
    "<center><img src=\"figurer/oving2_oppgave_sirkelbevegelse_akselerasjon.png\" alt=\"\" style=\"width: 600px;\"/></center>\n",
    "\n",
    "b) Hvor stor er baneakselerasjonen $a_{\\parallel}$, sentripetalakselerasjonen $a_{\\perp}$ og den totale akselerasjonen $a=|\\vec{a}|=|\\vec{a}_{\\parallel}+\\vec{a}_{\\perp}|$ idet banefarten er $60 \\textrm{ km/h}$ dersom sirkelradien er $60 \\textrm{ m}$ og bilens banefart øker jevnt fra null til $60 \\textrm{ km/h}$ i løpet av $6,0 \\textrm{ s}$? "
   ]
  },
  {
   "cell_type": "markdown",
   "metadata": {},
   "source": [
    "a)\n",
    "\n",
    "**Svar:** C. Fordi $a_{\\parallel}$ vil øke jevnt med banefarten, og $a_\\perp$ tilsvarer en kurve vi vil forvente fra $\\frac{v^{2}}{r}$.\n",
    "\n",
    "b)\n",
    "\n",
    "**Svar:** Vi har følgende verdier oppgitt: $v = 60km/h$, $r = 60m$ og $t = 6,0s$. Vi kan bruke følgende formel til å finne sentripetalakselerasjonen: $a_{\\perp} = \\frac{v^{2}}{r}$.\n",
    "\n",
    "Først finner vi banefarten sin SI-enhet: $v=\\frac{60000m}{3600s} = \\frac{50}{3} m/s$. Deretter anvender vi formelen for $a_{\\perp} \\implies \\frac{(\\frac{50}{3}m/s)^{2}}{60m} = \\frac{125}{27}m/s^{2} \\approx 4.63m/s^{2}$\n",
    "\n",
    "Så finner vi $a_{\\parallel} = \\frac{\\frac{50}{3}m/s}{6.0s} = \\frac{25}{9}m/s^{2} \\approx 2.78m/s^{2}$\n",
    "\n",
    "Da kan vi finne $|\\vec{a}|=\\sqrt{(\\frac{125}{27}m/s^{2})^{2} + (\\frac{25}{9}m/s^{2})^{2}} \\approx 5.40m/s^{2}$\n"
   ]
  },
  {
   "cell_type": "markdown",
   "metadata": {},
   "source": [
    "## Oppgave 5\n",
    "En kasse med masse $m$ henger i to identiske tau som danner en vinkel $\\theta$ med horisontalplanet, som vist på figuren under. \n",
    "\n",
    "<center><img src=\"figurer/oppgave_skilt_statikk.png\" alt=\"\" style=\"width: 400px;\"/></center>\n",
    "\n",
    "a) Vinkelen $\\theta$ kan justeres ved å gjøre tauene kortere/lengre, dvs. strammere/slakkere. Finn snordraget som funksjon av vinkelen $\\theta$. \n",
    "\n",
    "b) Hva skjer med snordraget når $\\theta \\rightarrow 0$?\n",
    "\n",
    "c) Bestem draget i hvert tau dersom $m=50 \\textrm{ kg}$ og $\\theta=30^{\\circ}$."
   ]
  },
  {
   "cell_type": "markdown",
   "metadata": {},
   "source": [
    "### oppgave 5a\n",
    "Så lenge kassen henger i ro, utgjør snordraget den samme kraften som tyngdekraften, bare motsatt rettet.\n",
    "De horisontale komponenetene til snordraget kansellerer hverandre, så vi ser på $T_y$\n",
    "\n",
    "$T_y = T\\cos(\\theta) \\rightarrow 2T_y = mg \\rightarrow 2T\\cos(\\theta) = mg \\rightarrow T = \\frac{mg}{2\\cos(\\theta)}$\n",
    "\n",
    "### b\n",
    "Vi ser at  $\\cos(\\theta)$ ligger under brøkstreken. Vi vet at $\\cos(0) = 1$, snordraget vil altså bli halvparten av tyngdekraften.\n",
    "Med 2 snorer er dette akkurat det samme som tyngdekraftenDette gir mening ettersom snoren vil holde kassen rett opp og ned, \n",
    "det er altså ingen vinkel som påvirker snordraget\n",
    "\n",
    "### c\n",
    "tauene er identiske, derfor kan vi bruke formelen fra oppgave a\n",
    "$T = \\frac{mg}{2\\cos(\\theta)} \\rightarrow T = \\frac{50*9.81}{2\\cos(30)} \\approx 283N$"
   ]
  },
  {
   "attachments": {},
   "cell_type": "markdown",
   "metadata": {},
   "source": [
    "## Eksempelkode: Løse likninger i Python\n",
    "\n",
    "Funksjonen fsolve fra Python-pakken scipy.optimize løser likninger ved å finne nullpunkter til en funksjon. Likninga må skrives som $f(x)=0$, der venstresiden i likninga utgjør $f(x)$. Ettersom fsolve bruker Newtons metode, må vi oppgi et startpunkt som 'gjetning' på hvor nullpunktet er. Dersom funksjonen har flere nullpunkter, må vi angi forskjellige startpunkter i nærheten av de ulike nullpunktene for å beregne disse."
   ]
  },
  {
   "cell_type": "code",
   "execution_count": 1,
   "metadata": {},
   "outputs": [
    {
     "data": {
      "image/png": "[encoded data removed]",
      "text/plain": [
       "<Figure size 640x480 with 1 Axes>"
      ]
     },
     "metadata": {},
     "output_type": "display_data"
    }
   ],
   "source": [
    "#Importerer nødvendige pakker\n",
    "from scipy.optimize import fsolve\n",
    "import numpy as np\n",
    "import matplotlib.pyplot as plt\n",
    "\n",
    "#Definerer funksjonen som angir venstresiden i likninga f(x)=0 \n",
    "#som skal løses; her 5cos(x)+x = 0\n",
    "def f(x):\n",
    "    return 5*np.cos(x) + x\n",
    "\n",
    "#Tegner funksjonen for å få et bilde av løsningene:\n",
    "t=np.linspace(-5,5)\n",
    "plt.axis([-5,5,-10,10])\n",
    "plt.grid()\n",
    "plt.axhline(color='black', lw=0.5)\n",
    "plt.plot(t,f(t))\n",
    "plt.show()\n",
    "\n"
   ]
  },
  {
   "cell_type": "code",
   "execution_count": null,
   "metadata": {},
   "outputs": [
    {
     "name": "stdout",
     "output_type": "stream",
     "text": [
      "Løsning i nærheten av x=-1:  -1.306440008369511\n",
      "Løsning i nærheten av x=2:  1.977383029328841\n"
     ]
    }
   ],
   "source": [
    "#Ser løsninger i nærheten av x=-1; x=2\n",
    "start = -1\n",
    "sol = fsolve(f, start)\n",
    "print(\"Løsning i nærheten av x=-1: \",sol[0])\n",
    "\n",
    "start = 2\n",
    "sol = fsolve(f, start)\n",
    "print(\"Løsning i nærheten av x=2: \",sol[0])"
   ]
  }
 ],
 "metadata": {
  "kernelspec": {
   "display_name": "Python 3",
   "language": "python",
   "name": "python3"
  },
  "language_info": {
   "codemirror_mode": {
    "name": "ipython",
    "version": 3
   },
   "file_extension": ".py",
   "mimetype": "text/x-python",
   "name": "python",
   "nbconvert_exporter": "python",
   "pygments_lexer": "ipython3",
   "version": "3.12.1"
  },
  "vscode": {
   "interpreter": {
    "hash": "551ea7ae10b114133e2fbac23ef1e8e3e30b0e580eb9fe1d9fc046518af6d1fa"
   }
  }
 },
 "nbformat": 4,
 "nbformat_minor": 2
}
