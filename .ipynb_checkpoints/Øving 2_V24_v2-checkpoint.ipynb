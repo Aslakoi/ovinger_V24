{
 "cells": [
  {
   "cell_type": "markdown",
   "metadata": {},
   "source": [
    "# Øving 2"
   ]
  },
  {
   "cell_type": "markdown",
   "metadata": {},
   "source": [
    "## Oppgave 1 - Risikabel stuping\n",
    "\n",
    "<img src=\"figurer/oving2_oppgave_stup.png\" alt=\"\" style=\"width: 250px;\"/>\n",
    "\n",
    "En modig svømmer stuper fra en klippe som har et horisontalt utspring som vist i figuren ovenfor. Utspringet har bredde $d=1,75 \\text{ m}$  bredt og befinner seg en høyde $h=9,00 \\text{ m}$ nedenfor toppen av klippen. \n",
    "\n",
    "Hvor høy horisontal hastighet $v_0$ må svømmeren minst ha idet hun forlater toppen av klippen slik at hun akkurat unngår utspringet?"
   ]
  },
  {
   "cell_type": "markdown",
   "metadata": {},
   "source": [
    "## Oppgave 2 - Fjærkanoner\n",
    "#### a)\n",
    "\n",
    "<img src=\"figurer/oving2_to_ulike_startvinkler.png\" alt=\"\" style=\"width: 250px;\"/>\n",
    "\n",
    "To fjærdrevne kanoner med munninger i samme punkt avfyres samtidig. De skyter kuler med samme startfart, men i hver sin vinkel, som illustrert i figuren ovenfor. Begge kanoner har munning på bakkenivå, samme som blinkene A og B. Den grønne kanonen skyter mer vertikalt mot blink A, mens den blå skyter mer horisontalt mot blink B. Vi ser bort i fra luftmotstand. \n",
    "\n",
    "Hvilke av følgende påstander er riktige?\n",
    "\n",
    "A. Den grønne kanonen treffer blink A først.\n",
    "\n",
    "B. Blinkene treffes samtidig.\n",
    "\n",
    "C. Den blå kula treffer blink med større fart enn den grønne.\n",
    "\n",
    "D. Kulene treffer blinkene med samme fart.\n",
    "\n",
    "#### b)\n",
    "\n",
    "<img src=\"figurer/oving2_skrått_kast.png\" alt=\"\" style=\"width: 250px;\"/>\n",
    "\n",
    "En annen fjærkanon skyter en kule med startfart $v_0 = 5,3 \\text{ m/s}$  mot en blink som ligger i en horisontal avstand \n",
    "$x = 2,1 \\text{ m}$  og vertikal avstand $y = 0,21 \\text{ m}$  fra munningen, som illustrert i figuren ovenfor. Hva må utskytingsvinkelen, $α$, være for at kula skal treffe midt i blinken? \n",
    "\n",
    "Hint: Trigonometriske likninger kan løses numerisk i Python (se appendiksen under)."
   ]
  },
  {
   "cell_type": "markdown",
   "metadata": {},
   "source": [
    "## Oppgave 3 - Sirkelbevegelse\n",
    "\n",
    "En bil starter med null startfart og kjører med jevnt økende banefart i en sirkelformet rundkjøring. En passasjer i bilen bruker akselerometrene i mobiltelefonen til å måle baneakselersjonen $a_{\\parallel}$ og sentripetalakselerasjonen $a_{\\perp}$ til bilen som funksjon av tiden. \n",
    "\n",
    "Hvilken av grafene under viser $a_{\\parallel}(t)$ og $a_{\\perp}(t)$ for bilen?\n",
    "\n",
    "<img src=\"figurer/oving2_oppgave_sirkelbevegelse_akselerasjon.png\" alt=\"\" style=\"width: 400px;\"/>"
   ]
  },
  {
   "cell_type": "markdown",
   "metadata": {},
   "source": [
    "## Appendiks: Hvordan finne nullpunkter i Python\n",
    "\n",
    "Vi kan bruke fsolve()-funksjonen fra scipy.optimize-pakken til å finne nullpunkter til en funksjon i Python. Vi definerer da først funksjonen vi ønsker å finne nullpunktet til som en funksjon. Vi må også oppgi et startpunkt som 'gjett' på hvor nullpunktet er. Dette har med at fsolve() bruker 'Newtons metode' å gjøre; de interesserte kan lese om hvordan denne metoden fungerer på Wikipedia. \n",
    "\n",
    "<img src=\"figurer/oving2_graf.png\" alt=\"\" style=\"width: 250px;\"/>*"
   ]
  },
  {
   "cell_type": "code",
   "execution_count": 1,
   "metadata": {},
   "outputs": [
    {
     "name": "stdout",
     "output_type": "stream",
     "text": [
      "-0.7390851332151607\n"
     ]
    }
   ],
   "source": [
    "from scipy.optimize import fsolve\n",
    "import numpy as np\n",
    "\n",
    "def f(x):\n",
    "    return np.cos(x) + x\n",
    "\n",
    "start = 0\n",
    "\n",
    "sol = fsolve(f, start)\n",
    "\n",
    "print(sol[0]) #-> -0.73908513"
   ]
  },
  {
   "cell_type": "markdown",
   "metadata": {},
   "source": [
    "Det er viktig å merke seg at vi får bare beregnet ett nullpunkt for et hvert startpunkt. Dersom funksjonen har flere nullpunkter, må vi gi forskjellige startpunkter i nærheten av de ulike nullpunktene for å beregne disse."
   ]
  },
  {
   "cell_type": "code",
   "execution_count": null,
   "metadata": {},
   "outputs": [],
   "source": []
  }
 ],
 "metadata": {
  "kernelspec": {
   "display_name": "Python 3",
   "language": "python",
   "name": "python3"
  },
  "language_info": {
   "codemirror_mode": {
    "name": "ipython",
    "version": 3
   },
   "file_extension": ".py",
   "mimetype": "text/x-python",
   "name": "python",
   "nbconvert_exporter": "python",
   "pygments_lexer": "ipython3",
   "version": "3.8.5"
  },
  "vscode": {
   "interpreter": {
    "hash": "e8ad1114e53795f080fc44e4fd13bda8da38550cc3edc8b8b789d953c5442fa8"
   }
  }
 },
 "nbformat": 4,
 "nbformat_minor": 2
}
