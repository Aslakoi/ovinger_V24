{
 "cells": [
  {
   "attachments": {},
   "cell_type": "markdown",
   "metadata": {},
   "source": [
    "$\\text{Aslak Øvereng Iveland, Sevat Lappegard Skurtveit, Olav A. Samuelsen Telneset }$\n",
    "\n",
    "\n",
    "# Øving 3\n",
    "## Oppgave 1\n",
    "En person skal måle den vertikale akselerasjonen til en heis ved å stå på en elektronisk badevekt inne i heisen. Heisen starter i ro i 1. etasje ved $t=0$, og beveger seg så direkte opp til 2. etasje der den stanser. Grafen under viser den målte krafta mot badevekta som funksjon av tid.\n",
    "\n",
    "<center><img src=\"figurer/oppgave_heis_badevekt.png\" alt=\"\" style=\"width: 400px;\"/></center>\n",
    "\n",
    "\n",
    "Ved hvilket av tidspunktene $[t_1,t_5]$ er absoluttverdien til heisens fart maksimal?\n",
    "\n",
    "A. $t_1$\n",
    "\n",
    "B. $t_2$\n",
    "\n",
    "C. $t_3$\n",
    "\n",
    "D. $t_4$\n",
    "\n",
    "E. $t_5$\n"
   ]
  },
  {
   "cell_type": "markdown",
   "metadata": {},
   "source": [
    "## oppgave 1\n",
    "\n",
    "fordi $\\sum{F} = m*a$ kan vi se på kraft-aksen som akselerasjonsaksen, ettersom massen er konstant. <br>\n",
    "vi har da at $v = \\int a \\, dt$ som vil si at absoluttverdien til v er størst der arealet under grafen er størst, <br>\n",
    "hvor likevektslinjen er ett skillepunkt. På denne grafen ser det ut som arealet er størst mellom $t_0 og t_2$, så riktig svar er: <br>\n",
    "\n",
    "B: $t_2$\n"
   ]
  },
  {
   "attachments": {},
   "cell_type": "markdown",
   "metadata": {},
   "source": [
    "## Oppgave 2\n",
    "<center><img src=\"figurer/oppgave_kloss_skraaplan_friksjonstall.png\" alt=\"\" style=\"width: 400px;\"/></center>\n",
    "\n",
    "I et enkelt labforsøk skal vi bestemme hvilefriksjonstallet $\\mu_s$ og glidefriksjonstallet $\\mu_k$ for kontaktflaten mellom en kloss og et skråplan.\n",
    "\n",
    "a) Klossen legges i ro på skrålanet, og skråvinkelen $\\theta$ økes forsiktig til en kritisk verdi $\\theta_0$ der klossen akkurat begynner å gli. Hva blir hvilefriksjonstallet $\\mu_s$ uttrykt ved $\\theta_0$?\n",
    "\n",
    "b) Skråplanvinkelen økes til en verdi $\\theta>\\theta_0$, slik at klossen kan gli nedover skråplanet med konstant akselerasjon. Når klossen starter fra ro måler vi at den sklir en lengde $s$ målt langs skråplanet i løpet av tiden $t$. Hva blir glidefriksjonstallet $\\mu_k$, uttrykt ved $s$, $t$, $g$ og $\\theta$?"
   ]
  },
  {
   "cell_type": "markdown",
   "metadata": {},
   "source": [
    "## oppgave 2\n",
    "\n",
    "a) Hvilefriksjonstallet $\\mu_s$ er lik tangenten av vinkelen $\\theta_0$ hvor klossen akkurat begynner å gli: <br>\n",
    "$\\mu_s = \\tan{\\theta_0}$ <br>\n",
    "det er fordi kraften fr astattisk friksjon, som forhindrer klossen i å gli, er lik komponenten av klossens vekt parallelt med overflaten av <br>\n",
    "skråplanet, akkurat før bevegelsen starter. På dette punktet er kraften fra statisk friksjon på sitt maksimale verdi, også kjent som grensefriksjon.\n",
    "\n",
    "\n",
    "b) glidefriksjonen kan finnes ved å bruke bevegelsesligningen for konstant akselerasjon <br>\n",
    "$s = v_0 t\\frac{1}{2}at^2 \\rightarrow  v_0 = 0 \\rightarrow  a = \\frac{2s}{t^2}$ <br>\n",
    "akselereasjonen er også summen av akselerasjonen til vertikal retning, og akselerasjonen til friksjonsretningen <br>\n",
    "$a = g\\sin{\\theta} - \\mu_k g\\cos{\\theta}$ <br>\n",
    "$\\rightarrow \\frac{2s}{t^2} = g\\sin{\\theta} - \\mu_k g\\cos{\\theta}$ <br>\n",
    "$\\rightarrow \\mu_k = \\tan{\\theta} - \\frac{2s}{gt^2\\cos{\\theta}}$\n"
   ]
  },
  {
   "attachments": {},
   "cell_type": "markdown",
   "metadata": {},
   "source": [
    "## Oppgave 3\n",
    "En vogn i en berg-og-dalbane starter i en viss høyde $h$ over det laveste punktet A i en sirkulær loop med radius $R$. To andre punkter i loopen er markerte: B er midtveis oppe, og C er det høyeste punktet. Vogna har tilstrekkelig fart til at den fullfører en hel loop uten å miste kontakten med underlaget (uten at det er spesifisert hvorvidt den kommer rundt loopen med \"god\" eller \"liten\" margin). Se figuren under.\n",
    "\n",
    "<center><img src=\"figurer/oppgave_sirkelbevegelse_vogn_loop.png\" alt=\"\" style=\"width: 400px;\"/></center>\n",
    "\n",
    "I denne oppgaven skal vi se bort fra friksjon og luftmotstand.\n",
    "\n",
    "a) Hvilke påstander er riktige?\n",
    "\n",
    "A. I punkt A er normalkrafta på vogna like stor som vognas tyngde.\n",
    "\n",
    "B. I punkt A er normalkrafta på vogna større enn vognas tyngde.\n",
    "\n",
    "C. I punkt B er sentripetalakselerasjonen til vogna lik 0. \n",
    "\n",
    "D. I punkt B er den tangentielle akselerasjonen til vogna lik g. \n",
    "\n",
    "E. I punkt C er sentripetalakselerasjonen til vogna lik g.\n",
    "\n",
    "b) Et akselerometer i vogna måler en sentripetalakselerasjon $a_{\\perp}=3g$ i det høyste punktet, der $g$ er tyngdeakselerasjonen. Akselerometeret er kalibrert slik at det viser $a_{\\perp}=0$ når vogna står i ro.\n",
    "\n",
    " Hva er normalkrafta på vogna i C, angitt i antall ganger vognas tyngde $G$?\n",
    "\n",
    "A. $N=0$\n",
    "\n",
    "B. $N=0,5 G$ \n",
    "\n",
    "C. $N=G$ \n",
    "\n",
    "D. $N=2G$ \n",
    "  \n",
    "E. $N=3G$"
   ]
  },
  {
   "cell_type": "markdown",
   "metadata": {},
   "source": [
    "3a) \n",
    "Riktige påstander:\n",
    "B, fordi normalkrafta må være like stor som g + sentripetalakselerasjonen, altså normalkrafta bidrar til å endre retning på vogna\n",
    "D, for at vogna skal bevege seg oppover må den tangentielle akselerasjonene i B være større eller lik g\n",
    "\n",
    "3b)\n",
    "D, Fsum = 3g   Fsum = Fg + Fn     Fn = Fsum - Fg   => N = 3g - g = 2g     N = 2g"
   ]
  },
  {
   "cell_type": "markdown",
   "metadata": {},
   "source": [
    "## Oppgave 4\n",
    "En bil masse masse $m=1500 \\textrm{ kg}$ kjører på horisontalt underlag med fart $v_0=80 \\textrm{ km/h}$ idet den bråbremser for en hindring en strekning $s$ foran bilen. Bilen har blokkeringsfrie bremser slik at det hele tiden virker maksimal hvilefriksjon mot dekkene. Hvilefriksjonstallet mellom dekk og underlag er $\\mu_s=0,80$. \n",
    "\n",
    "a) Hvor lang strekning $s$ trenger bilen for å stoppe, målt fra punktet der nedbremsingen startet?\n",
    "\n",
    "b) Hvor stor fart ville bilen ha truffet hindringen med, dersom den hadde kjørt i 90 km/h og $s$ er den samme som i a)?\n",
    "\n",
    "c) Ved en annen anledning kjører bilen nedover en bakke med 15 % stigning (se figur under). Hvor lang strekning trenger bilen for å stoppe fra en fart $v_0=80 \\textrm{ km/h}$ i dette tilfellet? \n",
    "\n",
    "<center><img src=\"figurer/stigningsgrad_vinkel_prosent.png\" alt=\"\" style=\"width: 400px;\"/></center>\n"
   ]
  },
  {
   "cell_type": "markdown",
   "metadata": {},
   "source": [
    "### Svar:\n",
    "\n",
    "a) Siden vi vet at energien må være bevart i de to tilstandene kan vi bruke denne egenskapen til å finne strekningen $s$ ved bruk av energiloven.\n",
    "\n",
    "Først finner vi at arbeidet $W_{R} = F \\cdot s\\cdot\\cos\\phi$ blir utført av friksjonskraften over strekning $s$, i dette tilfellet vil $\\phi = 180°$.\n",
    "\n",
    "\n",
    "\n",
    "$$\n",
    "\\begin{split}\n",
    "\\frac{1}{2}mv_{0}^{2} & = \\frac{1}{2}mv_{1}^{2} + |W_{R}| \\\\\n",
    "\\\\\n",
    "\\frac{1}{2}mv_{0}^{2} & = \\mu_{s}mg \\cdot s \\\\\n",
    "\\\\\n",
    "s & = \\frac{v_{0}^{2}}{2\\mu_{s}mg}\n",
    "\\end{split}$$\n",
    "\n",
    "Setter inn verdiene vi har oppgitt:\n",
    "\n",
    "$$\\begin{split}\n",
    "s = & \\frac{(\\frac{80km/h}{3,6})^{2}}{2 \\cdot (0,80) \\cdot (9,81 m/s^{2})} \\\\\n",
    "\\\\\n",
    "= & 31,46 \\textrm{ m}\n",
    "\\end{split}$$\n",
    "\n",
    "\n"
   ]
  },
  {
   "cell_type": "markdown",
   "metadata": {},
   "source": [
    "b) I denne opppgaven er vi ute etter $v_{1}$, vi kan ta ugangspunkt i (1).\n",
    "\n",
    "som gir oss\n",
    "\n",
    "$$\\begin{split}\n",
    "\\frac{1}{2}mv_{0}^{2} & = \\frac{1}{2}mv_{1}^{2} + |W_{R}| \\\\\n",
    "\\\\\n",
    "\\frac{1}{2}mv_{0}^{2} & = \\frac{1}{2}mv_{1}^{2} + \\mu_{s}mg \\cdot s \\\\\n",
    "\\\\\n",
    "v_{0}^{2} & = v_{1}^{2} + 2\\mu_{s}g \\cdot s \\\\\n",
    "\\\\\n",
    "v_{1} & = \\sqrt{v_{0}^{2} - 2\\mu_{s}g \\cdot s} \\\\\n",
    "\\end{split}$$\n",
    "\n",
    "Deretter kan vi finne hastigheten til bilen ved $s = 31,46 m$ og $v_{0} = 90km/h$:\n",
    "\n",
    "$$\n",
    "\\begin{split}\n",
    "v_{1} & = \\sqrt{(\\frac{90km/h}{3,6})^{2} - 2(0,80)\\cdot (31,46m)}\\\\\n",
    "\\\\\n",
    "&= 11.45 \\textrm{ m/s}\n",
    "\\end{split} \n",
    "$$\n",
    "\n",
    "\n",
    "\n"
   ]
  },
  {
   "cell_type": "markdown",
   "metadata": {},
   "source": [
    "c) Her er det gitt at motstående kateter er 0,15m og hosliggende = 1 m.\n",
    "\n",
    "$h_{1} = s \\cdot \\sin \\alpha$, $h_{0} = 0m\\\\$\n",
    "$v_{0} = 80km/h$, $v_{1} = 0km/h$, \n",
    "\n",
    "Vi finner vinkelen $\\alpha = tan^{-1}(0,15)$ som gir $\\alpha = 8,53076561°$\n",
    "\n",
    "Her kan vi også ta utgangspunkt i energiloven:\n",
    "\n",
    "$$\n",
    "\\begin{split}\n",
    "\\frac{1}{2}mv_{0}^{2} + mgh_{1} & = \\frac{1}{2}mv_{1}^{2} + mgh_{0} + |W_{R}|\\\\\n",
    "\\\\\n",
    "\\frac{1}{2}mv_{0}^{2} + mgh_{1} & = |W_{R}|\\\\\n",
    "\\\\\n",
    "\\frac{1}{2}mv_{0}^{2} + mgh_{1} & = \\mu_{s}mg \\cdot \\cos \\alpha \\cdot s\\\\\n",
    "\\\\\n",
    "\\frac{1}{2}v_{0}^{2} + g (s \\cdot \\sin \\alpha) & = \\mu_{s}g(\\cos \\alpha \\cdot s)\\\\\n",
    "\\\\\n",
    "s & = \\frac{v_{0}^{2}}{2g(\\mu_{s} \\cdot \\cos \\alpha - \\sin \\alpha)}\n",
    "\\end{split}\n",
    "$$\n",
    "\n",
    "da får vi\n",
    "\n",
    "$$\n",
    "\\begin{split}\n",
    "s & = \\frac{(\\frac{80km/h}{3,6})^{2}}{2(9,81m/s^{2})(0,80 \\cdot \\cos{8,53076561} - \\sin{8,53076561})}\\\\\n",
    "\\\\\n",
    "& = 39,16 \\textrm{ m}\n",
    "\\end{split}\n",
    "$$  "
   ]
  }
 ],
 "metadata": {
  "kernelspec": {
   "display_name": "Python 3",
   "language": "python",
   "name": "python3"
  },
  "language_info": {
   "codemirror_mode": {
    "name": "ipython",
    "version": 3
   },
   "file_extension": ".py",
   "mimetype": "text/x-python",
   "name": "python",
   "nbconvert_exporter": "python",
   "pygments_lexer": "ipython3",
   "version": "3.12.1"
  },
  "vscode": {
   "interpreter": {
    "hash": "551ea7ae10b114133e2fbac23ef1e8e3e30b0e580eb9fe1d9fc046518af6d1fa"
   }
  }
 },
 "nbformat": 4,
 "nbformat_minor": 2
}
