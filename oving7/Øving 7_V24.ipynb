{
 "cells": [
  {
   "attachments": {},
   "cell_type": "markdown",
   "metadata": {},
   "source": [
    "Gruppe 26\n",
    "\n",
    "**Oppgave 1**\n",
    "\n",
    "a) Vi skal gjøre et overslag over treghetsmomentet til et menneske om en vertikal akse gjennom personens symmetrilinje, når personen står med armene rett ned og tett inntil kroppen. Vi bruker den primitive modellen for menneskekroppen, der massen til de ulike kroppsdelene angis som prosentandelen av personens totale masse $m$, som vist i figuren under (alle kroppsdelene antas å ha konstant massetetthet):\n",
    "\n",
    "<center><img src=\"figurer/menneskekropp.png\" alt=\"\" style=\"height: 300px;\"/></center>\n",
    "\n",
    "1. 5 %: Kuleformet hode med radius $r$\n",
    "2. 55 % sylinderformet overkropp med radius $2r$ \n",
    "3. 5 % hver: Arm formet som tynn stang, i avstand $2r$ fra aksen\n",
    "4. 15 % hver: Bein formet som massiv sylinder med radius $2r/3$, senterlinje i avstand $r$ fra aksen\n",
    "\n",
    "Hvorfor blir treghetsmomentet om den angitte aksen uavhengig av lengden til armene og beina?\n",
    "\n",
    "b) Bestem treghetsmomentet til en person om den angitte aksen, som funksjon av personens totale masse $m$ og hodets radius $r$.\n",
    "\n",
    "c) Hva blir treghetsmomentet for en person med masse $70 \\textrm{ kg}$ og hodeomkrets $60 \\textrm{ cm}$? \n",
    "\n",
    "\n"
   ]
  },
  {
   "cell_type": "markdown",
   "metadata": {},
   "source": [
    "Svar:\n",
    "\n",
    "a) Fordi kroppsdelene er modellert som geometriske figurer med konstant massetetthet. Hadde de hatt ujevn massefordeling med forskjellig avstand fra rotasjonsaksen ville ikke treghetsmomentet vært uavhengig av lengden lengre.\n",
    "\n",
    "b) \n",
    "1) $m_1 = \\frac{5m}{100} \\qquad I = \\frac{2Mr^2}{5} \\quad \\rightarrow \\quad I_1 = \\frac{mr^2}{50}$ \n",
    "2) $m_2 = \\frac{55m}{100} \\qquad I = 2Mr^2  \\quad \\rightarrow \\quad I_2 = \\frac{11mr^2}{10}$\n",
    "3) $m_3 = m_1 \\qquad  I = 4mr^2 \\quad \\rightarrow \\quad I_3 = \\frac{mr^2}{5}$\n",
    "4) $m_4 = \\frac{15m}{100} \\qquad I_4 = I_0 + I_{\\text{CM}} \\qquad I_0 = \\frac{15mr^2}{100} \\qquad I_{\\text{CM}} = \\frac{15m(\\frac{2r}{3})^2}{200} \\quad \\rightarrow \\quad I_4 = \\frac{13mr^2}{20}$\n",
    "\n",
    "$I_{\\text{tot}} = \\frac{197mr^2}{100}$\n",
    "\n",
    "$I(m,r) = \\frac{197mr^2}{100}$\n",
    "\n",
    "c)\n",
    "\n",
    "$m = 70$ kg $\\qquad$ $r = 0.3$ m\n",
    "\n",
    "$I(70, 0.3) = \\frac{197*70*0.3^2}{100} = 12.411 \\textrm{ kgm}^{2}$"
   ]
  },
  {
   "attachments": {},
   "cell_type": "markdown",
   "metadata": {},
   "source": [
    "**Oppgave 2**\n",
    "\n",
    "En primitiv jo-jo består av en tråd tvunnet rundt en massiv skive/sylinder med masse $M$ og radius $R$. Tråden holdes i ro i den ene enden, og når sylinderen slippes, løper tråden av sylinderen uten å gli. Vi ser bort fra massen til tråden, og neglisjerer luftmotstand.\n",
    "\n",
    "<center><img src=\"figurer/jo-jo.png\" alt=\"\" style=\"height: 200px;\"/></center>\n",
    "\n",
    "\n",
    "a) Tegn kreftene som virker på sylinderen når den faller nedover.\n",
    "\n",
    "b) Bestem akselerasjonen til sylinderen når den faller. [Hint: Kombiner Newtons 2. lov for rotasjon om massesenteret med Newtons 2. lov for massesenterets bevegelse.]\n",
    "\n",
    "c) Bestem draget i snora under fallet."
   ]
  },
  {
   "cell_type": "markdown",
   "metadata": {},
   "source": [
    "**2**\n",
    "**a)**"
   ]
  },
  {
   "cell_type": "code",
   "execution_count": 1,
   "metadata": {},
   "outputs": [
    {
     "data": {
      "image/png": "[encoded data removed]",
      "text/plain": [
       "<IPython.core.display.Image object>"
      ]
     },
     "metadata": {},
     "output_type": "display_data"
    }
   ],
   "source": [
    "from IPython.display import Image, display\n",
    "\n",
    "display(Image(filename='figurer/jojojo.png'))"
   ]
  },
  {
   "cell_type": "markdown",
   "metadata": {},
   "source": [
    "\n",
    "**b)**\n",
    "\n",
    "T er snordraget, og dreiemomenter er $\\tau$ \n",
    "\n",
    "$$\n",
    "\\begin{aligned}\n",
    "    F = Ma\\\\\n",
    "    F = G - \\tau \\rightarrow Ma = Mg - I\\alpha\\\\\n",
    "    I = \\frac{1}{2}MR^2\\\\\n",
    "    \\tau = TR\n",
    "\\end{aligned}\n",
    "$$\n",
    "\n",
    "$$\n",
    "\\begin{aligned}\n",
    "    TR = \\frac{1}{2}MR^2 * \\frac{a}{R}\\\\\n",
    "    T = \\frac{1}{2}Ma\\\\\n",
    "    \\\\\n",
    "    Ma = Mg - T\\\\\n",
    "    Ma = Mg - \\frac{1}{2}Ma\\\\\n",
    "    Mg = \\frac{3}{2}Ma\\\\\n",
    "    \\underline{\\underline{a= \\frac{2}{3}g}} \n",
    "\\end{aligned}\n",
    "$$\n",
    "\n",
    "**c)**\n",
    "\n",
    "$$\n",
    "\\begin{aligned}\n",
    "    T = \\frac{1}{2}Ma\\\\\n",
    "    T = \\frac{1}{2}M * \\frac{2}{3}g\\\\\n",
    "    \\underline{\\underline{T = \\frac{1}{3}Mg}}\n",
    "\\end{aligned}\n",
    "$$\n",
    "hvis vi vet massen til jo-jo-en kan vi da regne ut snordraget\n",
    "\n"
   ]
  },
  {
   "attachments": {},
   "cell_type": "markdown",
   "metadata": {},
   "source": [
    "Oppgave 3\n",
    "En snøball ruller uten å gli nedover en snøkledd skråning med konstant helning, slik at snøballen blir større og større. Snøballen kan modelleres som en homogen kule med konstant massetetthet, der kulas radius $R$ varierer med tiden: $R=R(t)$.\n",
    "\n",
    "Snøballen starter å rulle ved $t=0$, og har da en startradius $R_0$. Luftmotstanden på snøballen kan neglisjeres. Se figuren under.\n",
    "\n",
    "<center><img src=\"figurer/oppgave_snøball.png\" alt=\"\" style=\"height: 300px;\"/></center>\n",
    "\n",
    "Hvilken påstand om snøballens (lineære) akselerasjon etter hvert som den ruller nedover skråningen er riktig?\n",
    "\n",
    "A. Akselerasjonen avtar\n",
    "\n",
    "B. Akselerasjonen øker\n",
    "\n",
    "C. Akselerasjonen er konstant\n",
    "\n",
    "D. Hvorvidt akselerasjonen øker, avtar eller er konstant, avhenger av modellen, dvs. uttrykket for $R(t)$\n",
    "\n",
    "E. Akselerasjonen øker lineært, uavhengig av uttrykket for $R(t)$"
   ]
  },
  {
   "cell_type": "markdown",
   "metadata": {},
   "source": [
    "**3**   \n",
    "\n",
    "$\\underline{\\text{påstand D er riktig}}$\n",
    "\n",
    "for å bestemme den eksakte effekten av den økende massen på akselerasjonen, trenger vi en funksjon \n",
    "R(t) for å modellere hvordan radiusen endrer seg over tid. Uten denne funksjonen kan vi ikke si sikkert om akselerasjonen øker, avtar eller er konstant. Det vil avhenge av den spesifikke formen på \n",
    "R(t) og hvordan denne endringen påvirker forholdet mellom den økende gravitasjonskraften og den økende treghetsmotstanden fra snøballens økende masse."
   ]
  },
  {
   "attachments": {},
   "cell_type": "markdown",
   "metadata": {},
   "source": [
    "**Oppgave 4**\n",
    "\n",
    "\n",
    "En massiv kule med masse $m$ og radius $r$ ruller uten å gli nedover et underlag og kommer inn i en sirkulær loop med radius $R$. Kula starter en høyde $h=3R$ over det laveste punktet i loopen. Se figuren under.\n",
    "\n",
    "<center><img src=\"figurer/oppgave_sirkelbevegelse_kule_loop.png\" alt=\"\" style=\"height: 300px;\"/></center>\n",
    "\n",
    "Kulas radius $r \\ll R$, slik at kula kan behandles som en punktmasse når det gjelder høydeforskjeller og potensiell energi - vi må imidlertid ta hensyn til at kula ruller. Vi ser bort fra luftmotstand.\n",
    "\n",
    "a) Hva er kulas fart i det laveste punkt i loopen?\n",
    "\n",
    "\n",
    "\n",
    "b) Hva er normalkrafta $N$ på kula i det laveste punktet i loopen, uttrykt ved kulas tyngde $G$?\n",
    "\n",
    "\n",
    "\n",
    "c) Hva er den minste starthøyden $h_{\\text{min}}$ kula kan slippes med null startfart fra hvis den skal fullføre en hel runde i loopen, uten å miste kontakten med underlaget? [Hint: Det kan være nyttig å se tilbake på en liknende problemstilling på øving 4.]\n",
    "\n",
    "\n"
   ]
  },
  {
   "cell_type": "markdown",
   "metadata": {},
   "source": [
    "**Svar:**\n",
    "\n",
    "a) Setter opp energiregnskap.\n",
    "\n",
    "$$\n",
    "\\begin{gathered}\n",
    "mgh_{1} = \\frac{1}{2}mv_{2}^{2} +\\frac{1}{2}I\\omega_{2}^{2}\\\\\n",
    "\\\\\n",
    "mgh_{1} = \\frac{1}{2}mv_{2}^{2} +\\frac{1}{2} (\\frac{2}{5}mr^{2})(\\frac{v_{2}}{r})^{2}\\\\\n",
    "\\\\\n",
    "gh_{1} = v_{2}^{2}(\\frac{1}{2}+\\frac{1}{5})\\\\\n",
    "\\\\\n",
    "\\underline{\\underline{v_{2} = \\sqrt{\\frac{30}{7}Rg}\\textrm{ m/s}}}\n",
    "\\end{gathered}\n",
    "$$\n",
    "\n",
    "b) Først vinner vi et uttrykk for normalkraften $N$.\n",
    "$$\n",
    "\\begin{gathered}\n",
    "N - mg = m \\frac{v^{2}}{R}\\\\\n",
    "\\\\\n",
    "N = mg + m \\frac{v^{2}}{R}\n",
    "\\end{gathered}\n",
    "$$\n",
    "\n",
    "Deretter uttrykker vi N i forhold til G.\n",
    "\n",
    "$$\n",
    "\\begin{gathered}\n",
    "\\frac{N}{G} = \\frac{mg + m \\frac{v^{2}}{R} }{mg}\\\\\n",
    "\\\\\n",
    "= 1 + \\frac{v^{2}}{Rg}\n",
    "\\end{gathered}\n",
    "$$\n",
    "\n",
    "Så setter vi inn $v$ fra oppgave a).\n",
    "\n",
    "$$\n",
    "\\begin{gathered}\n",
    "\\frac{N}{G} = 1 + \\frac{(\\sqrt{\\frac{30}{7}Rg})^{2}}{Rg}\\\\\n",
    "\\\\\n",
    " = 1 + \\frac{30}{7}\\\\\n",
    "\\\\\n",
    "\\underline{\\underline{= \\frac{37}{7}}}\n",
    "\\end{gathered}\n",
    "$$\n",
    "\n",
    "c) I toppunktet av loopen vil $N = 0$ dette gir oss et uttrykk som vist nedenfor, fordi den eneste kraften som virker på legemet er tyngdekraften $G$ som må være lik sentripetalkraften. \n",
    "\n",
    "$$\n",
    "\\begin{gathered}\n",
    "\\sum F = m \\frac{v^{2}}{R}\\\\\n",
    "\\\\\n",
    "mg = m \\frac{v^{2}}{R}\\\\\n",
    "\\\\\n",
    "v=\\sqrt{gR}\n",
    "\\end{gathered}\n",
    "$$\n",
    "\n",
    "$v$ representerer den minste verdien man må ha for å fullføre en runde i loopen, videre bruker vi samme uttrykk som i a) med noen små endringer.\n",
    "\n",
    "$$\n",
    "\\begin{gathered}\n",
    "mgh_{1} = mgh_{2}+\\frac{1}{2}mv_{2}^{2} +\\frac{1}{2}I\\omega_{2}^{2}\\\\\n",
    "\\\\\n",
    "mgh_{1} = mg(2R)+\\frac{1}{2}m(\\sqrt{gR})^{2} +\\frac{1}{2} (\\frac{2}{5}mr^{2})(\\frac{(\\sqrt{gR})}{r})^{2}\\\\\n",
    "\\\\\n",
    "gh_{1} = 2gR+(gR)(\\frac{1}{2}+\\frac{1}{5})\\\\\n",
    "\\\\\n",
    "\\underline{\\underline{h_{1} = \\frac{27R}{10}}}\n",
    "\\end{gathered}\n",
    "$$"
   ]
  }
 ],
 "metadata": {
  "kernelspec": {
   "display_name": "Python 3",
   "language": "python",
   "name": "python3"
  },
  "language_info": {
   "codemirror_mode": {
    "name": "ipython",
    "version": 3
   },
   "file_extension": ".py",
   "mimetype": "text/x-python",
   "name": "python",
   "nbconvert_exporter": "python",
   "pygments_lexer": "ipython3",
   "version": "3.12.1"
  },
  "vscode": {
   "interpreter": {
    "hash": "551ea7ae10b114133e2fbac23ef1e8e3e30b0e580eb9fe1d9fc046518af6d1fa"
   }
  }
 },
 "nbformat": 4,
 "nbformat_minor": 2
}
