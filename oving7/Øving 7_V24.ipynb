{
 "cells": [
  {
   "attachments": {},
   "cell_type": "markdown",
   "metadata": {},
   "source": [
    "# Øving 7\n",
    "## Oppgave 1\n",
    "Bestem treghetsmomentet for et sykkelhjul om en akse gjennom hjulets sentrum, når hjulet er bygd opp som vist på figuren under:\n",
    "\n",
    "<center><img src=\"figurer/sykkelhjul.png\" alt=\"\" style=\"height: 400px;\"/></center>\n",
    "\n",
    "1. Nav: Tynnvegget sylinder med masse $m_{\\text{nav}}=100 \\textrm{ g}$ og radius $r=5,00 \\textrm{ cm}$\n",
    "2. Eiker: 8 stk. tynne stenger med masse $m_{\\text{eik}}=5,00 \\textrm{ g}$ og lengde $L=31,0 \\textrm{ cm}$. Disse er spent mellom kanten av navet og felgen.\n",
    "3. Felg: Tynnvegget sylinder med radius $r+L$ og masse $m_{\\text{felg}}=500 \\textrm{ g}$\n",
    "4. Dekk/slange: Hul sylinder med tykkelse $d=4,00 \\textrm{ cm}$ og masse $m_{\\text{dekk}}=400 \\textrm{ g}$\n",
    "\n"
   ]
  },
  {
   "attachments": {},
   "cell_type": "markdown",
   "metadata": {},
   "source": [
    "## Oppgave 2\n",
    "En primitiv jo-jo består av en tråd tvunnet rundt en massiv skive/sylinder. Tråden holdes i den ene enden, og når sylinderen slippes, løper tråden av sylinderen uten å gli. Vi ser bort fra massen til tråden, og neglisjerer luftmotstand.\n",
    "\n",
    "<center><img src=\"figurer/jo-jo.png\" alt=\"\" style=\"height: 200px;\"/></center>\n",
    "\n",
    "a) Tegn kreftene som virker på sylinderen når den faller nedover.\n",
    "\n",
    "b) Bestem akselerasjonen til sylinderen når den faller.\n",
    "\n",
    "c) Bestem draget i snora under fallet."
   ]
  },
  {
   "attachments": {},
   "cell_type": "markdown",
   "metadata": {},
   "source": [
    "## Oppgave 3\n",
    "En snøball som ruller uten å gli nedover en snøkledd skråning og blir større og større, kan modelleres som en homogen kule med konstant massetetthet, der kulas radius $R$ øker med tiden: $R=R(t)$.\n",
    "\n",
    "Snøballen starter å rulle ved $t=0$, og har da en startradius $R_0=R(0)$. Hvilken påstand om snøballens (lineære) akselerasjon etter hvert som den ruller nedover skråningen er riktig?\n",
    "\n",
    "A. Akselerasjonen avtar\n",
    "\n",
    "B. Akselerasjonen øker\n",
    "\n",
    "C. Akselerasjonen er konstant\n",
    "\n",
    "D. Hvorvidt akselerasjonen er øker, avtar eller er konstant, avhenger av modellen, dvs. uttrykket for $R(t)$\n",
    "\n",
    "E. Akselerasjonen øker lineært, uavhengig av uttrykket for $R(t)$"
   ]
  },
  {
   "attachments": {},
   "cell_type": "markdown",
   "metadata": {},
   "source": [
    "## Oppgave 4\n",
    "\n",
    "\n",
    "\n",
    "\n"
   ]
  },
  {
   "attachments": {},
   "cell_type": "markdown",
   "metadata": {},
   "source": []
  },
  {
   "cell_type": "code",
   "execution_count": null,
   "metadata": {},
   "outputs": [],
   "source": []
  }
 ],
 "metadata": {
  "kernelspec": {
   "display_name": "Python 3",
   "language": "python",
   "name": "python3"
  },
  "language_info": {
   "codemirror_mode": {
    "name": "ipython",
    "version": 3
   },
   "file_extension": ".py",
   "mimetype": "text/x-python",
   "name": "python",
   "nbconvert_exporter": "python",
   "pygments_lexer": "ipython3",
   "version": "3.8.5"
  },
  "vscode": {
   "interpreter": {
    "hash": "551ea7ae10b114133e2fbac23ef1e8e3e30b0e580eb9fe1d9fc046518af6d1fa"
   }
  }
 },
 "nbformat": 4,
 "nbformat_minor": 2
}
