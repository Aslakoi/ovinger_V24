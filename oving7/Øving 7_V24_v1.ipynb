{
 "cells": [
  {
   "attachments": {},
   "cell_type": "markdown",
   "metadata": {},
   "source": [
    "# Øving 7\n",
    "## Oppgave 1\n",
    "Bestem treghetsmomentet for et sykkelhjul om en akse gjennom hjulets sentrum, når hjulet er bygd opp som vist på figuren under:\n",
    "\n",
    "<center><img src=\"figurer/sykkelhjul.png\" alt=\"\" style=\"height: 200px;\"/></center>\n",
    "\n",
    "1. Nav: Tynnvegget sylinder med masse $m_{\\text{nav}}=100 \\textrm{ g}$ og radius $r=5,00 \\textrm{ cm}$\n",
    "2. Eiker: 8 stk. tynne stenger med masse $m_{\\text{eik}}=5,00 \\textrm{ g}$ og lengde $L=31,0 \\textrm{ cm}$. Disse er spent mellom kanten av navet og felgen.\n",
    "3. Felg: Tynnvegget sylinder med radius $r+L$ og masse $m_{\\text{felg}}=500 \\textrm{ g}$\n",
    "4. Dekk/slange: Hul sylinder med tykkelse $d=4,00 \\textrm{ cm}$ og masse $m_{\\text{dekk}}=400 \\textrm{ g}$\n",
    "\n"
   ]
  },
  {
   "attachments": {},
   "cell_type": "markdown",
   "metadata": {},
   "source": [
    "## Oppgave 2\n",
    "En primitiv jo-jo består av en tråd tvunnet rundt en massiv skive/sylinder. Tråden holdes i den ene enden, og når sylinderen slippes, løper tråden av sylinderen uten å gli. Vi ser bort fra massen til tråden.\n",
    "\n",
    "<center><img src=\"figurer/jo-jo.png\" alt=\"\" style=\"height: 200px;\"/></center>\n",
    "\n",
    "a) Tegn krefter som virker på sylinder\n",
    "b) Bestem aks.\n",
    "c) Bestem snordrag?"
   ]
  },
  {
   "attachments": {},
   "cell_type": "markdown",
   "metadata": {},
   "source": [
    "## Oppgave 3\n",
    "Rulling knyttet til lab?\n"
   ]
  },
  {
   "attachments": {},
   "cell_type": "markdown",
   "metadata": {},
   "source": [
    "## Oppgave 4\n",
    "\n",
    "beregningsorientert rotasjon? rulling MED gliding? y(x) \n",
    "\n",
    "\n",
    "\n"
   ]
  },
  {
   "attachments": {},
   "cell_type": "markdown",
   "metadata": {},
   "source": []
  },
  {
   "cell_type": "code",
   "execution_count": 1,
   "metadata": {},
   "outputs": [
    {
     "name": "stdout",
     "output_type": "stream",
     "text": [
      "(0.017724538509055157, 2.8523435201026483e-10)\n"
     ]
    }
   ],
   "source": [
    "#Appendiks: Numerisk integrasjon \n",
    "import numpy as np\n",
    "import math\n",
    "import scipy.integrate as integrate\n",
    "\n",
    "#Definerer funksjonen f(t) som skal integreres\n",
    "def f(t):\n",
    "    tau=0.010\n",
    "    f=math.exp(-(t/tau)**2)\n",
    "    return f\n",
    " \n",
    "#Beregner integralet på intervallet (-uendelig,uendelig) \n",
    "I=integrate.quad(f,-np.inf,np.inf)\n",
    "print(I)\n"
   ]
  },
  {
   "cell_type": "code",
   "execution_count": null,
   "metadata": {},
   "outputs": [],
   "source": []
  }
 ],
 "metadata": {
  "kernelspec": {
   "display_name": "Python 3",
   "language": "python",
   "name": "python3"
  },
  "language_info": {
   "codemirror_mode": {
    "name": "ipython",
    "version": 3
   },
   "file_extension": ".py",
   "mimetype": "text/x-python",
   "name": "python",
   "nbconvert_exporter": "python",
   "pygments_lexer": "ipython3",
   "version": "3.8.5"
  },
  "vscode": {
   "interpreter": {
    "hash": "551ea7ae10b114133e2fbac23ef1e8e3e30b0e580eb9fe1d9fc046518af6d1fa"
   }
  }
 },
 "nbformat": 4,
 "nbformat_minor": 2
}
