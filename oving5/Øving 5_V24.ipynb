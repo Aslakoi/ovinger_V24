{
 "cells": [
  {
   "attachments": {},
   "cell_type": "markdown",
   "metadata": {},
   "source": [
    "# Øving 5\n",
    "## Oppgave 1\n",
    "Et gevær med masse $M = 2,0 \\textrm{ kg}$ ligger på et horisontalt underlag idet en kule med masse $m=10 \\textrm{ g}$ skytes ut av løpet med en fart på $v_0=700 \\textrm{ m/s}$. Se figuren under.\n",
    "\n",
    "<center><img src=\"figurer/gevær_kule.jpg\" alt=\"\" style=\"width: 400px;\"/></center>\n",
    "\n",
    "a) Hvor stor fart får geværet i motsatt retning (\"rekylfarten\") i det kula har forlatt løpet?\n",
    "\n",
    "b) Like etter at kula har forlatt løpet, treffer den en betongvegg og spretter tilbake i motsatt retning (\"rikosjett) med uendret fart. Hva er krafta fra veggen på kula, dersom krafta antas konstant, og kontakttiden mellom kula og veggen er $\\tau = 10 \\textrm{ ms}$?\n",
    "\n",
    "c) En mer realistisk modell for en slik \"kortvarig\" kraft fra veggen på kula med \"varighet\" $\\tau$ gitt slik: $$F(t)=F_{\\text{max}} \\cdot e^{-\\left(\\frac{t}{\\tau} \\right)^2},$$ der $F_{\\text{max}}$ er maksimalverdien av krafta fra veggen.\n",
    "\n",
    "Beregn maksimalverdien $F_{\\textrm{max}}$ av krafta dersom $\\tau=10 \\textrm{ ms}$ og kula spretter rett tilbake med uendret fart, slik som i oppgave b). [Hint: Impulsloven gir at $\\int_{-\\infty}^{\\infty} F(t) dt= \\Delta p$. Du kan få bruk for standardintegralet $\\int_{-\\infty}^{\\infty} e^{-ax^2} dx=\\sqrt{\\frac{\\pi}{a}}$.]\n"
   ]
  },
  {
   "cell_type": "markdown",
   "metadata": {},
   "source": [
    "$$\n",
    "\\text{oppgave a} \\\\\n",
    "\n",
    "P_f = Mv_1 + mv_1 \\\\\n",
    "P_e = Mv_2 + mv_0 \\\\\n",
    "P_f = P_e \\\\\n",
    "Mv_1 + mv_1 = Mv_2 + mv_0 \\\\\n",
    "v_1 = 0 \\\\\n",
    "v_2 = -\\frac{m}{M}v_0 \\\\\n",
    "v_2 = -3.5 \\\\\n",
    "\n",
    "\\text{oppgave b} \\\\\n",
    "F \\cdot \\Delta t = \\Delta P \\\\\n",
    "F = \\frac{\\Delta P}{\\Delta t} \\\\\n",
    "\\Delta P = m \\cdot (v_1 - v_0) \\\\\n",
    "\\Delta t = 0.01 \\, \\text{s} \\\\\n",
    "v_1 = 700 \\, \\text{m/s} \\\\\n",
    "v_0 = -700 \\, \\text{m/s} \\\\\n",
    "m = 0.01 \\, \\text{kg} \\\\\n",
    "F = 1400 \\, \\text{N} \\\\\n",
    "\n",
    "\\text{oppgave c} \\\\\n",
    "\\\\\n",
    "F(t) = F_{\\text{max}} \\cdot e^{-\\left(\\frac{t}{\\tau}\\right)^2} \\\\\n",
    "\\int_{a}^{b} F(t) \\, dt = \\Delta P \\\\\n",
    "\\int_{a}^{b} e^{-\\left(\\frac{t}{\\tau}\\right)^2} dt = \\tau \\cdot \\sqrt{\\pi} \\\\\n",
    "\\Delta P = m \\cdot (v_1 - v_0) \\\\\n",
    "F_{\\text{max}} = \\frac{\\Delta P}{\\tau \\cdot \\sqrt{\\pi}} \\\\\n",
    "F_{\\text{max}} = \\frac{0.01 \\cdot 1400}{0.01 \\cdot \\sqrt{\\pi}} = 789.9 \\, \\text{N} \\\\\n",
    "$$"
   ]
  },
  {
   "cell_type": "markdown",
   "metadata": {},
   "source": []
  },
  {
   "attachments": {},
   "cell_type": "markdown",
   "metadata": {},
   "source": [
    "## Oppgave 2\n",
    "\n",
    "En bil med masse $m$ og fart $v$ kolliderer med en annen bil med masse $2m$ som i utgangspunktet er i ro, i et rett, sentralt støt. Bilene blir hengende sammen og beveger seg som ett legeme etter støtet.\n",
    "\n",
    "Hvor stor prosentandel av bilenes kinetiske energi går tapt i støtet?\n",
    "\n"
   ]
  },
  {
   "cell_type": "markdown",
   "metadata": {},
   "source": [
    "### 2\n",
    "\n",
    "\n",
    "støtet er fullstendig uelastisk, bevegelsesmengde er bevart, men ikke energi <br>\n",
    "<br>\n",
    "$P_f = P_e \\rightarrow mv + 2m * 0 = 3mu \\rightarrow u = \\frac{v}{3} (\\text{u er farten til det samlede legemet etter støtet})$ <br>\n",
    "$E_k før: \\frac{1}{2}m_1v_1^2 + \\frac{1}{2}m_2v_2^2 = \\frac{1}{2}mv^2$ <br>\n",
    "$E_k etter: \\frac{1}{2}Mu^2 \\rightarrow \\frac{1}{2}3m(\\frac{v}{3}^2) = \\frac{1}{6}mv^2$ <br>\n",
    "<br>\n",
    "vi ser at den kinetiske energien etter støret er en tredjedel av energien før støtet, som $66,66 prosent$ av den kinetiske energien gikk tapt i støtet\n",
    "\n",
    "\n"
   ]
  },
  {
   "cell_type": "markdown",
   "metadata": {},
   "source": [
    "## Oppgave 3\n",
    "To skøyteløpere med identisk masse $M$ står i ro ovenfor hverandre, og kan gli helt friksjonsfritt på isen. Løper A kaster en kasse med masse $m$ med en horisontal utgangsfart $v_0$, som løper B tar imot og holder fast i. Se figuren under.\n",
    "\n",
    "<center><img src=\"figurer/oppgave_skøyteløpere_kast.png\" alt=\"\" style=\"width: 400px;\"/></center>\n",
    "\n",
    "a) Hva blir farten $u_1$ til skøyteløper A etter å ha kastet fra seg kassen?\n",
    "\n",
    "b) Hvor stor er farten $u_2$ til skøyteløper B etter å ha tatt imot kassa? All bevegelse kan antas å foregå langs en rett linje.\n",
    "\n",
    "\n"
   ]
  },
  {
   "attachments": {},
   "cell_type": "markdown",
   "metadata": {},
   "source": [
    "## Oppgave 4\n",
    "I en partikkelakselerator kolliderer et proton med masse $m_1$ og fart $1,0 \\cdot 10^6 \\textrm{ m/s}$ med et positron med masse $m_2$ som i utgangspunktet ligger i ro, i et rett, elastisk støt. Masseforholdet mellom protonet og positronet er $\\frac{m_2}{m_1}=\\frac{1}{2000}$.\n",
    "\n",
    "Hva blir protonets og positronets fart etter kollisjonen?\n",
    "\n",
    "\n"
   ]
  },
  {
   "cell_type": "markdown",
   "metadata": {},
   "source": [
    "### 4\n",
    "\n",
    "Gitt at et proton med masse $m_1 $ og hastighet $ 1,0 \\times 10^6 $ m/s kolliderer elastisk med et i ro værende positron med masse $ m_2 $ der masseforholdet er $ \\frac{m_2}{m_1} = \\frac{1}{2000} $ ønsker vi å finne de endelige hastighetene $ v_{1f} $ og $ v_{2f} $ etter kollisjonen.\n",
    "\n",
    "Vi bruker bevaring av bevegelsesmengde og kinetisk energi:\n",
    "\n",
    "1. Bevegelsesmengdens bevaring:\n",
    "$ m_1v_{1f} + m_2v_{2f} = m_1v_{1e} + m_2v_{2e} $\n",
    "\n",
    "2. Kinetisk energis bevaring:\n",
    "$ \\frac{1}{2}m_1v_{1f}^2 + \\frac{1}{2}m_2v_{2f}^2 = \\frac{1}{2}m_1v_{1e}^2 + \\frac{1}{2}m_2v_{2e}^2 $\n",
    "\n",
    "Med $ v_{2i} = 0 $ (positronet er i ro), blir likningene:\n",
    "\n",
    "$ m_1 \\cdot 1,0 \\times 10^6 + m_2 \\cdot 0 = m_1v_{1e} + m_2v_{2e} $\n",
    "$ \\frac{1}{2}m_1 \\cdot (1,0 \\times 10^6)^2 + 0 = \\frac{1}{2}m_1v_{1e}^2 + \\frac{1}{2}m_2v_{2e}^2 $\n",
    "\n",
    "Ved å løse disse likningene, får vi at:\n",
    "\n",
    "Protonets endelige hastighet $ v_{1f} $ er ca. 999,000.5 m/s.\n",
    "fPositronets endelige hastighet $ v_{2f} $ er ca. 1,999,000.5 m/s.\n"
   ]
  }
 ],
 "metadata": {
  "kernelspec": {
   "display_name": "Python 3",
   "language": "python",
   "name": "python3"
  },
  "language_info": {
   "codemirror_mode": {
    "name": "ipython",
    "version": 3
   },
   "file_extension": ".py",
   "mimetype": "text/x-python",
   "name": "python",
   "nbconvert_exporter": "python",
   "pygments_lexer": "ipython3",
   "version": "3.8.5"
  },
  "vscode": {
   "interpreter": {
    "hash": "551ea7ae10b114133e2fbac23ef1e8e3e30b0e580eb9fe1d9fc046518af6d1fa"
   }
  }
 },
 "nbformat": 4,
 "nbformat_minor": 2
}
