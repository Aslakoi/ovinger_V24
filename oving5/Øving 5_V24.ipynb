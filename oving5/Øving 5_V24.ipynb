{
 "cells": [
  {
   "attachments": {},
   "cell_type": "markdown",
   "metadata": {},
   "source": [
    "# Øving 5\n",
    "## Oppgave 1\n",
    "Et gevær med masse $M = 2,0 \\textrm{ kg}$ ligger på et horisontalt underlag idet en kule med masse $m=10 \\textrm{ g}$ skytes ut av løpet med en fart på $v_0=700 \\textrm{ m/s}$. Se figuren under.\n",
    "\n",
    "<center><img src=\"figurer/gevær_kule.png\" alt=\"\" style=\"width: 400px;\"/></center>\n",
    "\n",
    "a) Hvor stor fart får geværet i motsatt retning (\"rekylfarten\") i det kula har forlatt løpet? \\\n",
    "b) Like etter at kula har forlatt løpet, treffer den en betongvegg og spretter tilbake i motsatt retning (\"rikosjett) med uendret fart. Hva er krafta fra veggen på kula, dersom krafta antas konstant, og kontakttiden mellom kula og veggen er $\\tau = 10 \\textrm{ ms}$? \\\n",
    "c) En mer realistisk modell for en slik \"kortvarig\" kraft fra veggen med \"varighet\" $\\tau$ på kula er gitt slik: $$F(t)=F_{\\text{max}} \\cdot e^{-\\left(\\frac{t}{\\tau} \\right)^2},$$ der $F_\\text{{max}}$ er maksimalverdien av krafta fra veggen, og kontakttiden mellom kula og veggen er $\\tau$.\n",
    "\n",
    "Beregn maksimalverdien $F_\\text{{max}}$ av krafta dersom kula treffer veggen med kontakttid $\\tau=10 \\textrm{ ms}$ og spretter rett tilbake med uendret fart, slik som i oppgave b). [Hint: Impulsloven gir at $\\int_{-\\infty}^{\\infty} F(t) dt= \\Delta p$. Du kan få bruk for standardintegralet $\\int_{-\\infty}^{\\infty} e^{-ax^2} dx=\\sqrt{\\frac{\\pi}{a}}$.]\n"
   ]
  },
  {
   "attachments": {},
   "cell_type": "markdown",
   "metadata": {},
   "source": [
    "## Oppgave 2\n",
    "\n",
    "To biler med masse $m$ og $2m$ kolliderer front mot front i et rett, sentralt støt. Bilene har begge en fart $v$ i hver sin retning i det de kolliderer, og bilene blir hengende sammen etter støtet.\n",
    "\n",
    "Hvor stor prosentandel av bilenes kinetiske energi går tapt i støtet?\n",
    "\n"
   ]
  },
  {
   "cell_type": "markdown",
   "metadata": {},
   "source": [
    "## Oppgave 3\n",
    "To skøyteløpere med identisk masse $M$ står i ro ovenfor hverandre, og kan gli helt friksjonsfritt på isen. Løper A kaster en pakke med masse $m$ med en horisontal utgangsfart $v_0$, som løper B tar imot og holder fast i. Se figuren under.\n",
    "\n",
    "<center><img src=\"figurer/oppgave_skøyteløpere_kast.png\" alt=\"\" style=\"width: 400px;\"/></center>\n",
    "\n",
    "a) Hva blir farten $u_1$ til skøyteløper A etter å ha kastet fra seg kassen?\n",
    "\n",
    "b) Hvor raskt glir skøyteløperne fra hverandre etter at løper B har tatt imot pakken? All bevegelse kan antas åforegå langs en rett linje.\n",
    "\n",
    "\n"
   ]
  },
  {
   "attachments": {},
   "cell_type": "markdown",
   "metadata": {},
   "source": [
    "## Oppgave 4\n",
    "I en partikkelakselerator kolliderer et proton med masse $1u$ og fart $1,0 \\cdot 10^6 \\textrm{ m/s}$ med et positron med masse $\\frac{1}{2000} u$ som i utgangspunktet ligger i ro, i et rett, elastisk støt.\n",
    "\n",
    "Hva blir protonets og positronets fart etter kollisjonen?\n",
    "\n",
    "\n"
   ]
  }
 ],
 "metadata": {
  "kernelspec": {
   "display_name": "Python 3",
   "language": "python",
   "name": "python3"
  },
  "language_info": {
   "codemirror_mode": {
    "name": "ipython",
    "version": 3
   },
   "file_extension": ".py",
   "mimetype": "text/x-python",
   "name": "python",
   "nbconvert_exporter": "python",
   "pygments_lexer": "ipython3",
   "version": "3.8.5"
  },
  "vscode": {
   "interpreter": {
    "hash": "551ea7ae10b114133e2fbac23ef1e8e3e30b0e580eb9fe1d9fc046518af6d1fa"
   }
  }
 },
 "nbformat": 4,
 "nbformat_minor": 2
}
